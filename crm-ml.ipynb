{
 "cells": [
  {
   "cell_type": "code",
   "execution_count": 24,
   "id": "97af94de",
   "metadata": {},
   "outputs": [],
   "source": [
    "import pandas as pd\n",
    "\n",
    "file_path = 'data/crm.xlsx'\n",
    "crm = pd.read_excel(file_path,parse_dates=['DT'],index_col='DT')\n",
    "crm.columns =[\"sample\",\"ni\",\"fe\",\"co\",\"alu\",\"sil\",\"phos\",\"sul\",\"mag\",\"cal\",\"chrom\",\"man\",\"ti\",\"xrf\", \"note\"]"
   ]
  },
  {
   "cell_type": "code",
   "execution_count": 28,
   "id": "c1f466cf",
   "metadata": {},
   "outputs": [],
   "source": [
    "crm_features = ['ni', 'fe', 'co', 'alu', 'sil', 'phos', 'sul', 'mag']\n",
    "crm_daily = crm.groupby(['xrf','sample'])[crm_features].resample('D').mean().dropna().round(2).reset_index()"
   ]
  },
  {
   "cell_type": "code",
   "execution_count": 29,
   "id": "3fcf8cea",
   "metadata": {},
   "outputs": [
    {
     "data": {
      "text/html": [
       "<div>\n",
       "<style scoped>\n",
       "    .dataframe tbody tr th:only-of-type {\n",
       "        vertical-align: middle;\n",
       "    }\n",
       "\n",
       "    .dataframe tbody tr th {\n",
       "        vertical-align: top;\n",
       "    }\n",
       "\n",
       "    .dataframe thead th {\n",
       "        text-align: right;\n",
       "    }\n",
       "</style>\n",
       "<table border=\"1\" class=\"dataframe\">\n",
       "  <thead>\n",
       "    <tr style=\"text-align: right;\">\n",
       "      <th></th>\n",
       "      <th>xrf</th>\n",
       "      <th>sample</th>\n",
       "      <th>DT</th>\n",
       "      <th>ni</th>\n",
       "      <th>fe</th>\n",
       "      <th>alu</th>\n",
       "      <th>sil</th>\n",
       "      <th>mag</th>\n",
       "    </tr>\n",
       "  </thead>\n",
       "  <tbody>\n",
       "    <tr>\n",
       "      <th>0</th>\n",
       "      <td>2</td>\n",
       "      <td>S1</td>\n",
       "      <td>2021-06-06</td>\n",
       "      <td>0.63</td>\n",
       "      <td>48.21</td>\n",
       "      <td>10.35</td>\n",
       "      <td>1.75</td>\n",
       "      <td>0.98</td>\n",
       "    </tr>\n",
       "    <tr>\n",
       "      <th>1</th>\n",
       "      <td>2</td>\n",
       "      <td>S1</td>\n",
       "      <td>2021-06-30</td>\n",
       "      <td>0.64</td>\n",
       "      <td>48.96</td>\n",
       "      <td>10.66</td>\n",
       "      <td>1.68</td>\n",
       "      <td>0.91</td>\n",
       "    </tr>\n",
       "    <tr>\n",
       "      <th>2</th>\n",
       "      <td>2</td>\n",
       "      <td>S1</td>\n",
       "      <td>2021-07-01</td>\n",
       "      <td>0.63</td>\n",
       "      <td>48.63</td>\n",
       "      <td>10.25</td>\n",
       "      <td>1.76</td>\n",
       "      <td>0.97</td>\n",
       "    </tr>\n",
       "    <tr>\n",
       "      <th>3</th>\n",
       "      <td>2</td>\n",
       "      <td>S1</td>\n",
       "      <td>2021-07-02</td>\n",
       "      <td>0.63</td>\n",
       "      <td>48.64</td>\n",
       "      <td>10.20</td>\n",
       "      <td>1.80</td>\n",
       "      <td>1.00</td>\n",
       "    </tr>\n",
       "    <tr>\n",
       "      <th>4</th>\n",
       "      <td>2</td>\n",
       "      <td>S1</td>\n",
       "      <td>2021-07-03</td>\n",
       "      <td>0.63</td>\n",
       "      <td>48.74</td>\n",
       "      <td>10.19</td>\n",
       "      <td>1.83</td>\n",
       "      <td>1.04</td>\n",
       "    </tr>\n",
       "  </tbody>\n",
       "</table>\n",
       "</div>"
      ],
      "text/plain": [
       "   xrf sample         DT    ni     fe    alu   sil   mag\n",
       "0    2     S1 2021-06-06  0.63  48.21  10.35  1.75  0.98\n",
       "1    2     S1 2021-06-30  0.64  48.96  10.66  1.68  0.91\n",
       "2    2     S1 2021-07-01  0.63  48.63  10.25  1.76  0.97\n",
       "3    2     S1 2021-07-02  0.63  48.64  10.20  1.80  1.00\n",
       "4    2     S1 2021-07-03  0.63  48.74  10.19  1.83  1.04"
      ]
     },
     "execution_count": 29,
     "metadata": {},
     "output_type": "execute_result"
    }
   ],
   "source": [
    "crm_daily.head()"
   ]
  },
  {
   "cell_type": "code",
   "execution_count": 30,
   "id": "03ed7d82",
   "metadata": {},
   "outputs": [
    {
     "data": {
      "text/html": [
       "<div>\n",
       "<style scoped>\n",
       "    .dataframe tbody tr th:only-of-type {\n",
       "        vertical-align: middle;\n",
       "    }\n",
       "\n",
       "    .dataframe tbody tr th {\n",
       "        vertical-align: top;\n",
       "    }\n",
       "\n",
       "    .dataframe thead th {\n",
       "        text-align: right;\n",
       "    }\n",
       "</style>\n",
       "<table border=\"1\" class=\"dataframe\">\n",
       "  <thead>\n",
       "    <tr style=\"text-align: right;\">\n",
       "      <th></th>\n",
       "      <th>xrf</th>\n",
       "      <th>sample</th>\n",
       "      <th>DT</th>\n",
       "      <th>ni</th>\n",
       "      <th>fe</th>\n",
       "      <th>alu</th>\n",
       "      <th>sil</th>\n",
       "      <th>mag</th>\n",
       "    </tr>\n",
       "  </thead>\n",
       "  <tbody>\n",
       "    <tr>\n",
       "      <th>0</th>\n",
       "      <td>2</td>\n",
       "      <td>S1</td>\n",
       "      <td>2021-06-06</td>\n",
       "      <td>0.63</td>\n",
       "      <td>48.21</td>\n",
       "      <td>10.35</td>\n",
       "      <td>1.75</td>\n",
       "      <td>0.98</td>\n",
       "    </tr>\n",
       "    <tr>\n",
       "      <th>1</th>\n",
       "      <td>2</td>\n",
       "      <td>S1</td>\n",
       "      <td>2021-06-30</td>\n",
       "      <td>0.64</td>\n",
       "      <td>48.96</td>\n",
       "      <td>10.66</td>\n",
       "      <td>1.68</td>\n",
       "      <td>0.91</td>\n",
       "    </tr>\n",
       "    <tr>\n",
       "      <th>2</th>\n",
       "      <td>2</td>\n",
       "      <td>S1</td>\n",
       "      <td>2021-07-01</td>\n",
       "      <td>0.63</td>\n",
       "      <td>48.63</td>\n",
       "      <td>10.25</td>\n",
       "      <td>1.76</td>\n",
       "      <td>0.97</td>\n",
       "    </tr>\n",
       "    <tr>\n",
       "      <th>3</th>\n",
       "      <td>2</td>\n",
       "      <td>S1</td>\n",
       "      <td>2021-07-02</td>\n",
       "      <td>0.63</td>\n",
       "      <td>48.64</td>\n",
       "      <td>10.20</td>\n",
       "      <td>1.80</td>\n",
       "      <td>1.00</td>\n",
       "    </tr>\n",
       "    <tr>\n",
       "      <th>4</th>\n",
       "      <td>2</td>\n",
       "      <td>S1</td>\n",
       "      <td>2021-07-03</td>\n",
       "      <td>0.63</td>\n",
       "      <td>48.74</td>\n",
       "      <td>10.19</td>\n",
       "      <td>1.83</td>\n",
       "      <td>1.04</td>\n",
       "    </tr>\n",
       "  </tbody>\n",
       "</table>\n",
       "</div>"
      ],
      "text/plain": [
       "   xrf sample         DT    ni     fe    alu   sil   mag\n",
       "0    2     S1 2021-06-06  0.63  48.21  10.35  1.75  0.98\n",
       "1    2     S1 2021-06-30  0.64  48.96  10.66  1.68  0.91\n",
       "2    2     S1 2021-07-01  0.63  48.63  10.25  1.76  0.97\n",
       "3    2     S1 2021-07-02  0.63  48.64  10.20  1.80  1.00\n",
       "4    2     S1 2021-07-03  0.63  48.74  10.19  1.83  1.04"
      ]
     },
     "execution_count": 30,
     "metadata": {},
     "output_type": "execute_result"
    }
   ],
   "source": [
    "s1 = crm_daily[crm_daily['sample']=='S1']\n",
    "s1.head()"
   ]
  },
  {
   "cell_type": "code",
   "execution_count": 33,
   "id": "9b6094aa",
   "metadata": {},
   "outputs": [],
   "source": [
    "y=s1.ni\n",
    "crm_features = ['xrf','fe', 'alu', 'sil','mag']\n",
    "X=s1[crm_features]"
   ]
  },
  {
   "cell_type": "code",
   "execution_count": 34,
   "id": "77e2e8bf",
   "metadata": {},
   "outputs": [
    {
     "data": {
      "text/html": [
       "<div>\n",
       "<style scoped>\n",
       "    .dataframe tbody tr th:only-of-type {\n",
       "        vertical-align: middle;\n",
       "    }\n",
       "\n",
       "    .dataframe tbody tr th {\n",
       "        vertical-align: top;\n",
       "    }\n",
       "\n",
       "    .dataframe thead th {\n",
       "        text-align: right;\n",
       "    }\n",
       "</style>\n",
       "<table border=\"1\" class=\"dataframe\">\n",
       "  <thead>\n",
       "    <tr style=\"text-align: right;\">\n",
       "      <th></th>\n",
       "      <th>xrf</th>\n",
       "      <th>fe</th>\n",
       "      <th>alu</th>\n",
       "      <th>sil</th>\n",
       "      <th>mag</th>\n",
       "    </tr>\n",
       "  </thead>\n",
       "  <tbody>\n",
       "    <tr>\n",
       "      <th>0</th>\n",
       "      <td>2</td>\n",
       "      <td>48.21</td>\n",
       "      <td>10.35</td>\n",
       "      <td>1.75</td>\n",
       "      <td>0.98</td>\n",
       "    </tr>\n",
       "    <tr>\n",
       "      <th>1</th>\n",
       "      <td>2</td>\n",
       "      <td>48.96</td>\n",
       "      <td>10.66</td>\n",
       "      <td>1.68</td>\n",
       "      <td>0.91</td>\n",
       "    </tr>\n",
       "    <tr>\n",
       "      <th>2</th>\n",
       "      <td>2</td>\n",
       "      <td>48.63</td>\n",
       "      <td>10.25</td>\n",
       "      <td>1.76</td>\n",
       "      <td>0.97</td>\n",
       "    </tr>\n",
       "    <tr>\n",
       "      <th>3</th>\n",
       "      <td>2</td>\n",
       "      <td>48.64</td>\n",
       "      <td>10.20</td>\n",
       "      <td>1.80</td>\n",
       "      <td>1.00</td>\n",
       "    </tr>\n",
       "    <tr>\n",
       "      <th>4</th>\n",
       "      <td>2</td>\n",
       "      <td>48.74</td>\n",
       "      <td>10.19</td>\n",
       "      <td>1.83</td>\n",
       "      <td>1.04</td>\n",
       "    </tr>\n",
       "  </tbody>\n",
       "</table>\n",
       "</div>"
      ],
      "text/plain": [
       "   xrf     fe    alu   sil   mag\n",
       "0    2  48.21  10.35  1.75  0.98\n",
       "1    2  48.96  10.66  1.68  0.91\n",
       "2    2  48.63  10.25  1.76  0.97\n",
       "3    2  48.64  10.20  1.80  1.00\n",
       "4    2  48.74  10.19  1.83  1.04"
      ]
     },
     "execution_count": 34,
     "metadata": {},
     "output_type": "execute_result"
    }
   ],
   "source": [
    "X.head()"
   ]
  },
  {
   "cell_type": "code",
   "execution_count": 35,
   "id": "ea2be358",
   "metadata": {},
   "outputs": [
    {
     "data": {
      "text/plain": [
       "DecisionTreeRegressor(random_state=1)"
      ]
     },
     "execution_count": 35,
     "metadata": {},
     "output_type": "execute_result"
    }
   ],
   "source": [
    "from sklearn.tree import DecisionTreeRegressor\n",
    "\n",
    "#define model. specify a number for random state to ensure some results each run\n",
    "s1_model = DecisionTreeRegressor(random_state=1)\n",
    "\n",
    "#fit model\n",
    "s1_model.fit(X,y)"
   ]
  },
  {
   "cell_type": "code",
   "execution_count": 36,
   "id": "42eefb2d",
   "metadata": {},
   "outputs": [
    {
     "name": "stdout",
     "output_type": "stream",
     "text": [
      "Making predictions for the following samples:\n",
      "   xrf     fe    alu   sil   mag\n",
      "0    2  48.21  10.35  1.75  0.98\n",
      "1    2  48.96  10.66  1.68  0.91\n",
      "2    2  48.63  10.25  1.76  0.97\n",
      "3    2  48.64  10.20  1.80  1.00\n",
      "4    2  48.74  10.19  1.83  1.04\n",
      "The predictions are\n",
      "[0.63 0.64 0.63 0.63 0.63]\n"
     ]
    }
   ],
   "source": [
    "print(\"Making predictions for the following samples:\")\n",
    "print(X.head())\n",
    "print(\"The predictions are\")\n",
    "print(s1_model.predict(X.head()))"
   ]
  },
  {
   "cell_type": "code",
   "execution_count": 37,
   "id": "afeb783e",
   "metadata": {},
   "outputs": [
    {
     "data": {
      "text/plain": [
       "2.463412790201715e-17"
      ]
     },
     "execution_count": 37,
     "metadata": {},
     "output_type": "execute_result"
    }
   ],
   "source": [
    "#calculate the mean absolute error\n",
    "from sklearn.metrics import mean_absolute_error\n",
    "\n",
    "predicted_ni = s1_model.predict(X)\n",
    "mean_absolute_error(y, predicted_ni)\n"
   ]
  },
  {
   "cell_type": "code",
   "execution_count": 38,
   "id": "0394439d",
   "metadata": {},
   "outputs": [
    {
     "name": "stdout",
     "output_type": "stream",
     "text": [
      "0.005333333333333371\n"
     ]
    }
   ],
   "source": [
    "from sklearn.model_selection import train_test_split\n",
    "\n",
    "# split data into training and validation data, for both features and target\n",
    "# The split is based on a random number generator. Supplying a numeric value to\n",
    "# the random_state argument guarantees we get the same split every time we\n",
    "# run this script.\n",
    "train_X, val_X, train_y, val_y = train_test_split(X, y, random_state = 0)\n",
    "# Define model\n",
    "s1_model = DecisionTreeRegressor()\n",
    "# Fit model\n",
    "s1_model.fit(train_X, train_y)\n",
    "\n",
    "# get predicted prices on validation data\n",
    "val_predictions = s1_model.predict(val_X)\n",
    "print(mean_absolute_error(val_y, val_predictions))"
   ]
  },
  {
   "cell_type": "code",
   "execution_count": null,
   "id": "326697e4",
   "metadata": {},
   "outputs": [],
   "source": []
  }
 ],
 "metadata": {
  "kernelspec": {
   "display_name": "Python 3 (ipykernel)",
   "language": "python",
   "name": "python3"
  },
  "language_info": {
   "codemirror_mode": {
    "name": "ipython",
    "version": 3
   },
   "file_extension": ".py",
   "mimetype": "text/x-python",
   "name": "python",
   "nbconvert_exporter": "python",
   "pygments_lexer": "ipython3",
   "version": "3.9.7"
  }
 },
 "nbformat": 4,
 "nbformat_minor": 5
}
