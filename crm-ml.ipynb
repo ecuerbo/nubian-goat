{
 "cells": [
  {
   "cell_type": "code",
   "execution_count": 54,
   "id": "fd4d3d79",
   "metadata": {},
   "outputs": [],
   "source": [
    "import pandas as pd\n",
    "\n",
    "file_path = 'data/crm.xlsx'\n",
    "crm = pd.read_excel(file_path,parse_dates=['DT'],index_col='DT')\n",
    "crm.columns =[\"sample\",\"ni\",\"fe\",\"co\",\"alu\",\"sil\",\"phos\",\"sul\",\"mag\",\"cal\",\"chrom\",\"man\",\"ti\",\"xrf\"]"
   ]
  },
  {
   "cell_type": "code",
   "execution_count": 55,
   "id": "bc39a9ba",
   "metadata": {},
   "outputs": [],
   "source": [
    "crm_features = ['ni', 'fe', 'co', 'alu', 'sil', 'phos', 'sul', 'mag']"
   ]
  },
  {
   "cell_type": "code",
   "execution_count": 57,
   "id": "00d9e89c",
   "metadata": {},
   "outputs": [
    {
     "data": {
      "text/html": [
       "<div>\n",
       "<style scoped>\n",
       "    .dataframe tbody tr th:only-of-type {\n",
       "        vertical-align: middle;\n",
       "    }\n",
       "\n",
       "    .dataframe tbody tr th {\n",
       "        vertical-align: top;\n",
       "    }\n",
       "\n",
       "    .dataframe thead th {\n",
       "        text-align: right;\n",
       "    }\n",
       "</style>\n",
       "<table border=\"1\" class=\"dataframe\">\n",
       "  <thead>\n",
       "    <tr style=\"text-align: right;\">\n",
       "      <th></th>\n",
       "      <th>xrf</th>\n",
       "      <th>sample</th>\n",
       "      <th>DT</th>\n",
       "      <th>ni</th>\n",
       "      <th>fe</th>\n",
       "      <th>alu</th>\n",
       "      <th>mag</th>\n",
       "    </tr>\n",
       "  </thead>\n",
       "  <tbody>\n",
       "    <tr>\n",
       "      <th>5098</th>\n",
       "      <td>4</td>\n",
       "      <td>S3</td>\n",
       "      <td>2022-12-01</td>\n",
       "      <td>NaN</td>\n",
       "      <td>NaN</td>\n",
       "      <td>NaN</td>\n",
       "      <td>NaN</td>\n",
       "    </tr>\n",
       "    <tr>\n",
       "      <th>5099</th>\n",
       "      <td>4</td>\n",
       "      <td>S3</td>\n",
       "      <td>2022-12-02</td>\n",
       "      <td>1.00</td>\n",
       "      <td>52.98</td>\n",
       "      <td>3.48</td>\n",
       "      <td>1.00</td>\n",
       "    </tr>\n",
       "    <tr>\n",
       "      <th>5100</th>\n",
       "      <td>4</td>\n",
       "      <td>S3</td>\n",
       "      <td>2022-12-03</td>\n",
       "      <td>1.00</td>\n",
       "      <td>52.96</td>\n",
       "      <td>3.53</td>\n",
       "      <td>1.05</td>\n",
       "    </tr>\n",
       "    <tr>\n",
       "      <th>5101</th>\n",
       "      <td>4</td>\n",
       "      <td>S3</td>\n",
       "      <td>2022-12-04</td>\n",
       "      <td>NaN</td>\n",
       "      <td>NaN</td>\n",
       "      <td>NaN</td>\n",
       "      <td>NaN</td>\n",
       "    </tr>\n",
       "    <tr>\n",
       "      <th>5102</th>\n",
       "      <td>4</td>\n",
       "      <td>S3</td>\n",
       "      <td>2022-12-05</td>\n",
       "      <td>1.01</td>\n",
       "      <td>53.02</td>\n",
       "      <td>3.36</td>\n",
       "      <td>0.80</td>\n",
       "    </tr>\n",
       "  </tbody>\n",
       "</table>\n",
       "</div>"
      ],
      "text/plain": [
       "      xrf sample         DT    ni     fe   alu   mag\n",
       "5098    4     S3 2022-12-01   NaN    NaN   NaN   NaN\n",
       "5099    4     S3 2022-12-02  1.00  52.98  3.48  1.00\n",
       "5100    4     S3 2022-12-03  1.00  52.96  3.53  1.05\n",
       "5101    4     S3 2022-12-04   NaN    NaN   NaN   NaN\n",
       "5102    4     S3 2022-12-05  1.01  53.02  3.36  0.80"
      ]
     },
     "execution_count": 57,
     "metadata": {},
     "output_type": "execute_result"
    }
   ],
   "source": []
  },
  {
   "cell_type": "code",
   "execution_count": null,
   "id": "9c4511f1",
   "metadata": {},
   "outputs": [],
   "source": []
  },
  {
   "cell_type": "code",
   "execution_count": null,
   "id": "c40df711",
   "metadata": {},
   "outputs": [],
   "source": []
  },
  {
   "cell_type": "code",
   "execution_count": null,
   "id": "ea824023",
   "metadata": {},
   "outputs": [],
   "source": []
  },
  {
   "cell_type": "code",
   "execution_count": null,
   "id": "ea463144",
   "metadata": {},
   "outputs": [],
   "source": []
  },
  {
   "cell_type": "code",
   "execution_count": null,
   "id": "e1e573e2",
   "metadata": {},
   "outputs": [],
   "source": []
  },
  {
   "cell_type": "code",
   "execution_count": 30,
   "id": "a08f21b7",
   "metadata": {},
   "outputs": [
    {
     "data": {
      "text/html": [
       "<div>\n",
       "<style scoped>\n",
       "    .dataframe tbody tr th:only-of-type {\n",
       "        vertical-align: middle;\n",
       "    }\n",
       "\n",
       "    .dataframe tbody tr th {\n",
       "        vertical-align: top;\n",
       "    }\n",
       "\n",
       "    .dataframe thead th {\n",
       "        text-align: right;\n",
       "    }\n",
       "</style>\n",
       "<table border=\"1\" class=\"dataframe\">\n",
       "  <thead>\n",
       "    <tr style=\"text-align: right;\">\n",
       "      <th></th>\n",
       "      <th>xrf</th>\n",
       "      <th>sample</th>\n",
       "      <th>DT</th>\n",
       "      <th>ni</th>\n",
       "      <th>fe</th>\n",
       "      <th>alu</th>\n",
       "      <th>sil</th>\n",
       "      <th>mag</th>\n",
       "    </tr>\n",
       "  </thead>\n",
       "  <tbody>\n",
       "    <tr>\n",
       "      <th>0</th>\n",
       "      <td>2</td>\n",
       "      <td>S1</td>\n",
       "      <td>2021-06-06</td>\n",
       "      <td>0.63</td>\n",
       "      <td>48.21</td>\n",
       "      <td>10.35</td>\n",
       "      <td>1.75</td>\n",
       "      <td>0.98</td>\n",
       "    </tr>\n",
       "    <tr>\n",
       "      <th>1</th>\n",
       "      <td>2</td>\n",
       "      <td>S1</td>\n",
       "      <td>2021-06-30</td>\n",
       "      <td>0.64</td>\n",
       "      <td>48.96</td>\n",
       "      <td>10.66</td>\n",
       "      <td>1.68</td>\n",
       "      <td>0.91</td>\n",
       "    </tr>\n",
       "    <tr>\n",
       "      <th>2</th>\n",
       "      <td>2</td>\n",
       "      <td>S1</td>\n",
       "      <td>2021-07-01</td>\n",
       "      <td>0.63</td>\n",
       "      <td>48.63</td>\n",
       "      <td>10.25</td>\n",
       "      <td>1.76</td>\n",
       "      <td>0.97</td>\n",
       "    </tr>\n",
       "    <tr>\n",
       "      <th>3</th>\n",
       "      <td>2</td>\n",
       "      <td>S1</td>\n",
       "      <td>2021-07-02</td>\n",
       "      <td>0.63</td>\n",
       "      <td>48.64</td>\n",
       "      <td>10.20</td>\n",
       "      <td>1.80</td>\n",
       "      <td>1.00</td>\n",
       "    </tr>\n",
       "    <tr>\n",
       "      <th>4</th>\n",
       "      <td>2</td>\n",
       "      <td>S1</td>\n",
       "      <td>2021-07-03</td>\n",
       "      <td>0.63</td>\n",
       "      <td>48.74</td>\n",
       "      <td>10.19</td>\n",
       "      <td>1.83</td>\n",
       "      <td>1.04</td>\n",
       "    </tr>\n",
       "  </tbody>\n",
       "</table>\n",
       "</div>"
      ],
      "text/plain": [
       "   xrf sample         DT    ni     fe    alu   sil   mag\n",
       "0    2     S1 2021-06-06  0.63  48.21  10.35  1.75  0.98\n",
       "1    2     S1 2021-06-30  0.64  48.96  10.66  1.68  0.91\n",
       "2    2     S1 2021-07-01  0.63  48.63  10.25  1.76  0.97\n",
       "3    2     S1 2021-07-02  0.63  48.64  10.20  1.80  1.00\n",
       "4    2     S1 2021-07-03  0.63  48.74  10.19  1.83  1.04"
      ]
     },
     "execution_count": 30,
     "metadata": {},
     "output_type": "execute_result"
    }
   ],
   "source": [
    "s1 = crm_daily[crm_daily['sample']=='S1']\n",
    "s1.head()"
   ]
  },
  {
   "cell_type": "code",
   "execution_count": 33,
   "id": "4a7e4170",
   "metadata": {},
   "outputs": [],
   "source": [
    "y=s1.ni\n",
    "crm_features = ['xrf','fe', 'alu', 'sil','mag']\n",
    "X=s1[crm_features]"
   ]
  },
  {
   "cell_type": "code",
   "execution_count": 34,
   "id": "cfd911e0",
   "metadata": {},
   "outputs": [
    {
     "data": {
      "text/html": [
       "<div>\n",
       "<style scoped>\n",
       "    .dataframe tbody tr th:only-of-type {\n",
       "        vertical-align: middle;\n",
       "    }\n",
       "\n",
       "    .dataframe tbody tr th {\n",
       "        vertical-align: top;\n",
       "    }\n",
       "\n",
       "    .dataframe thead th {\n",
       "        text-align: right;\n",
       "    }\n",
       "</style>\n",
       "<table border=\"1\" class=\"dataframe\">\n",
       "  <thead>\n",
       "    <tr style=\"text-align: right;\">\n",
       "      <th></th>\n",
       "      <th>xrf</th>\n",
       "      <th>fe</th>\n",
       "      <th>alu</th>\n",
       "      <th>sil</th>\n",
       "      <th>mag</th>\n",
       "    </tr>\n",
       "  </thead>\n",
       "  <tbody>\n",
       "    <tr>\n",
       "      <th>0</th>\n",
       "      <td>2</td>\n",
       "      <td>48.21</td>\n",
       "      <td>10.35</td>\n",
       "      <td>1.75</td>\n",
       "      <td>0.98</td>\n",
       "    </tr>\n",
       "    <tr>\n",
       "      <th>1</th>\n",
       "      <td>2</td>\n",
       "      <td>48.96</td>\n",
       "      <td>10.66</td>\n",
       "      <td>1.68</td>\n",
       "      <td>0.91</td>\n",
       "    </tr>\n",
       "    <tr>\n",
       "      <th>2</th>\n",
       "      <td>2</td>\n",
       "      <td>48.63</td>\n",
       "      <td>10.25</td>\n",
       "      <td>1.76</td>\n",
       "      <td>0.97</td>\n",
       "    </tr>\n",
       "    <tr>\n",
       "      <th>3</th>\n",
       "      <td>2</td>\n",
       "      <td>48.64</td>\n",
       "      <td>10.20</td>\n",
       "      <td>1.80</td>\n",
       "      <td>1.00</td>\n",
       "    </tr>\n",
       "    <tr>\n",
       "      <th>4</th>\n",
       "      <td>2</td>\n",
       "      <td>48.74</td>\n",
       "      <td>10.19</td>\n",
       "      <td>1.83</td>\n",
       "      <td>1.04</td>\n",
       "    </tr>\n",
       "  </tbody>\n",
       "</table>\n",
       "</div>"
      ],
      "text/plain": [
       "   xrf     fe    alu   sil   mag\n",
       "0    2  48.21  10.35  1.75  0.98\n",
       "1    2  48.96  10.66  1.68  0.91\n",
       "2    2  48.63  10.25  1.76  0.97\n",
       "3    2  48.64  10.20  1.80  1.00\n",
       "4    2  48.74  10.19  1.83  1.04"
      ]
     },
     "execution_count": 34,
     "metadata": {},
     "output_type": "execute_result"
    }
   ],
   "source": [
    "X.head()"
   ]
  },
  {
   "cell_type": "code",
   "execution_count": 35,
   "id": "a7301549",
   "metadata": {},
   "outputs": [
    {
     "data": {
      "text/plain": [
       "DecisionTreeRegressor(random_state=1)"
      ]
     },
     "execution_count": 35,
     "metadata": {},
     "output_type": "execute_result"
    }
   ],
   "source": [
    "from sklearn.tree import DecisionTreeRegressor\n",
    "\n",
    "#define model. specify a number for random state to ensure some results each run\n",
    "s1_model = DecisionTreeRegressor(random_state=1)\n",
    "\n",
    "#fit model\n",
    "s1_model.fit(X,y)"
   ]
  },
  {
   "cell_type": "code",
   "execution_count": 36,
   "id": "67369410",
   "metadata": {},
   "outputs": [
    {
     "name": "stdout",
     "output_type": "stream",
     "text": [
      "Making predictions for the following samples:\n",
      "   xrf     fe    alu   sil   mag\n",
      "0    2  48.21  10.35  1.75  0.98\n",
      "1    2  48.96  10.66  1.68  0.91\n",
      "2    2  48.63  10.25  1.76  0.97\n",
      "3    2  48.64  10.20  1.80  1.00\n",
      "4    2  48.74  10.19  1.83  1.04\n",
      "The predictions are\n",
      "[0.63 0.64 0.63 0.63 0.63]\n"
     ]
    }
   ],
   "source": [
    "print(\"Making predictions for the following samples:\")\n",
    "print(X.head())\n",
    "print(\"The predictions are\")\n",
    "print(s1_model.predict(X.head()))"
   ]
  },
  {
   "cell_type": "code",
   "execution_count": 37,
   "id": "5f76fce1",
   "metadata": {},
   "outputs": [
    {
     "data": {
      "text/plain": [
       "2.463412790201715e-17"
      ]
     },
     "execution_count": 37,
     "metadata": {},
     "output_type": "execute_result"
    }
   ],
   "source": [
    "#calculate the mean absolute error\n",
    "from sklearn.metrics import mean_absolute_error\n",
    "\n",
    "predicted_ni = s1_model.predict(X)\n",
    "mean_absolute_error(y, predicted_ni)\n"
   ]
  },
  {
   "cell_type": "code",
   "execution_count": 38,
   "id": "b69868b9",
   "metadata": {},
   "outputs": [
    {
     "name": "stdout",
     "output_type": "stream",
     "text": [
      "0.005333333333333371\n"
     ]
    }
   ],
   "source": [
    "from sklearn.model_selection import train_test_split\n",
    "\n",
    "# split data into training and validation data, for both features and target\n",
    "# The split is based on a random number generator. Supplying a numeric value to\n",
    "# the random_state argument guarantees we get the same split every time we\n",
    "# run this script.\n",
    "train_X, val_X, train_y, val_y = train_test_split(X, y, random_state = 0)\n",
    "# Define model\n",
    "s1_model = DecisionTreeRegressor()\n",
    "# Fit model\n",
    "s1_model.fit(train_X, train_y)\n",
    "\n",
    "# get predicted prices on validation data\n",
    "val_predictions = s1_model.predict(val_X)\n",
    "print(mean_absolute_error(val_y, val_predictions))"
   ]
  },
  {
   "cell_type": "code",
   "execution_count": 39,
   "id": "4ef90851",
   "metadata": {},
   "outputs": [
    {
     "name": "stdout",
     "output_type": "stream",
     "text": [
      "First in-sample predictions: [0.63 0.63 0.63 0.63 0.63]\n",
      "Actual target values for ni: [0.63, 0.64, 0.63, 0.63, 0.63]\n"
     ]
    }
   ],
   "source": [
    "print(\"First in-sample predictions:\", s1_model.predict(X.head()))\n",
    "print(\"Actual target values for ni:\", y.head().tolist())"
   ]
  },
  {
   "cell_type": "code",
   "execution_count": 42,
   "id": "4912f190",
   "metadata": {},
   "outputs": [],
   "source": [
    "from sklearn.metrics import mean_absolute_error\n",
    "from sklearn.tree import DecisionTreeRegressor\n",
    "\n",
    "def get_mae(max_leaf_nodes, train_X, val_X, train_y, val_y):\n",
    "    model = DecisionTreeRegressor(max_leaf_nodes=max_leaf_nodes, random_state=0)\n",
    "    model.fit(train_X, train_y)\n",
    "    preds_val = model.predict(val_X)\n",
    "    mae = mean_absolute_error(val_y, preds_val)\n",
    "    return(mae)"
   ]
  },
  {
   "cell_type": "markdown",
   "id": "80781337",
   "metadata": {},
   "source": [
    "##### There are a few alternatives for controlling the tree depth, and many allow for some routes through the tree to have greater depth than other routes. But the max_leaf_nodes argument provides a very sensible way to control ***overfitting vs underfitting***. The more leaves we allow the model to make, the more we move from the underfitting area in the above graph to the overfitting area.\n",
    "\n",
    "##### We can use a utility function to help compare MAE scores from different values for max_leaf_nodes:"
   ]
  },
  {
   "cell_type": "code",
   "execution_count": 43,
   "id": "cc90de7c",
   "metadata": {},
   "outputs": [
    {
     "name": "stdout",
     "output_type": "stream",
     "text": [
      "Max leaf nodes: 5  \t\t Mean Absolute Error:  0\n",
      "Max leaf nodes: 50  \t\t Mean Absolute Error:  0\n",
      "Max leaf nodes: 500  \t\t Mean Absolute Error:  0\n",
      "Max leaf nodes: 5000  \t\t Mean Absolute Error:  0\n"
     ]
    }
   ],
   "source": [
    "# compare MAE with differing values of max_leaf_nodes\n",
    "for max_leaf_nodes in [5, 50, 500, 5000]:\n",
    "    my_mae = get_mae(max_leaf_nodes, train_X, val_X, train_y, val_y)\n",
    "    print(\"Max leaf nodes: %d  \\t\\t Mean Absolute Error:  %d\" %(max_leaf_nodes, my_mae))"
   ]
  },
  {
   "cell_type": "code",
   "execution_count": null,
   "id": "8952ea32",
   "metadata": {},
   "outputs": [],
   "source": []
  }
 ],
 "metadata": {
  "kernelspec": {
   "display_name": "Python 3 (ipykernel)",
   "language": "python",
   "name": "python3"
  },
  "language_info": {
   "codemirror_mode": {
    "name": "ipython",
    "version": 3
   },
   "file_extension": ".py",
   "mimetype": "text/x-python",
   "name": "python",
   "nbconvert_exporter": "python",
   "pygments_lexer": "ipython3",
   "version": "3.9.7"
  }
 },
 "nbformat": 4,
 "nbformat_minor": 5
}
