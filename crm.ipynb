{
 "cells": [
  {
   "cell_type": "markdown",
   "id": "07b9b937",
   "metadata": {},
   "source": [
    "### This is a study on data collected during a each batch of XRF runs"
   ]
  },
  {
   "cell_type": "code",
   "execution_count": 1,
   "id": "aa429624",
   "metadata": {},
   "outputs": [],
   "source": [
    "import pandas as pd\n",
    "import numpy as np\n",
    "\n",
    "df = pd.read_excel('data/crm.xlsx')\n",
    "df.columns =[\"sample\",\"ni\",\"fe\",\"co\",\"alu\",\"sil\",\"phos\",\"sul\",\"mag\",\"cal\",\"chrom\",\"man\",\"ti\",\"dt\",\"xrf\", \"note\"]\n",
    "#df.info()"
   ]
  },
  {
   "cell_type": "code",
   "execution_count": 2,
   "id": "828f988a",
   "metadata": {},
   "outputs": [
    {
     "name": "stdout",
     "output_type": "stream",
     "text": [
      "<class 'pandas.core.frame.DataFrame'>\n",
      "RangeIndex: 22241 entries, 0 to 22240\n",
      "Data columns (total 6 columns):\n",
      " #   Column  Non-Null Count  Dtype         \n",
      "---  ------  --------------  -----         \n",
      " 0   sample  22241 non-null  object        \n",
      " 1   xrf     22241 non-null  int64         \n",
      " 2   ni      22241 non-null  float64       \n",
      " 3   fe      22241 non-null  float64       \n",
      " 4   alu     22238 non-null  float64       \n",
      " 5   dt      22241 non-null  datetime64[ns]\n",
      "dtypes: datetime64[ns](1), float64(3), int64(1), object(1)\n",
      "memory usage: 1.0+ MB\n"
     ]
    }
   ],
   "source": [
    "imp = [\"sample\",'xrf',\"ni\",\"fe\",\"alu\",\"dt\"]\n",
    "crm = df[imp]\n",
    "#crm[\"sample\"] = crm[\"sample\"].astype('str')\n",
    "crm.info()"
   ]
  },
  {
   "cell_type": "code",
   "execution_count": 43,
   "id": "cec31726",
   "metadata": {},
   "outputs": [
    {
     "data": {
      "text/plain": [
       "<AxesSubplot:>"
      ]
     },
     "execution_count": 43,
     "metadata": {},
     "output_type": "execute_result"
    },
    {
     "data": {
      "image/png": "[encoded data removed]",
      "text/plain": [
       "<Figure size 432x288 with 1 Axes>"
      ]
     },
     "metadata": {
      "needs_background": "light"
     },
     "output_type": "display_data"
    }
   ],
   "source": [
    "crm['sample'].value_counts().plot(kind=\"bar\")"
   ]
  },
  {
   "cell_type": "code",
   "execution_count": 45,
   "id": "c4ede18a",
   "metadata": {},
   "outputs": [
    {
     "data": {
      "text/plain": [
       "<AxesSubplot:>"
      ]
     },
     "execution_count": 45,
     "metadata": {},
     "output_type": "execute_result"
    },
    {
     "data": {
      "image/png": "[encoded data removed]",
      "text/plain": [
       "<Figure size 432x288 with 1 Axes>"
      ]
     },
     "metadata": {
      "needs_background": "light"
     },
     "output_type": "display_data"
    }
   ],
   "source": [
    "crm['xrf'].value_counts().plot(kind=\"bar\", color=\"seagreen\")"
   ]
  },
  {
   "cell_type": "code",
   "execution_count": 50,
   "id": "8ed0e70a",
   "metadata": {},
   "outputs": [
    {
     "data": {
      "text/plain": [
       "array(['S1', 'S2', 'S11', 'S3', 'S12'], dtype=object)"
      ]
     },
     "execution_count": 50,
     "metadata": {},
     "output_type": "execute_result"
    }
   ],
   "source": [
    "sample_unique=crm['sample'].unique()\n",
    "sample_unique"
   ]
  },
  {
   "cell_type": "markdown",
   "id": "f9026da0",
   "metadata": {},
   "source": [
    "#1.) Daily element trend for different XRFs\n",
    "#2.) Did Fe trend change with time?\n"
   ]
  },
  {
   "cell_type": "code",
   "execution_count": 10,
   "id": "850b2511",
   "metadata": {
    "scrolled": true
   },
   "outputs": [
    {
     "name": "stderr",
     "output_type": "stream",
     "text": [
      "/var/folders/g6/qw3t2lbx7x91r1mfyp6k77k00000gn/T/ipykernel_1032/2908783004.py:1: FutureWarning: Indexing with multiple keys (implicitly converted to a tuple of keys) will be deprecated, use a list instead.\n",
      "  crm.groupby([\"sample\",\"xrf\"])[\"ni\",\"fe\",\"alu\"].mean().round(2)\n"
     ]
    },
    {
     "data": {
      "text/html": [
       "<div>\n",
       "<style scoped>\n",
       "    .dataframe tbody tr th:only-of-type {\n",
       "        vertical-align: middle;\n",
       "    }\n",
       "\n",
       "    .dataframe tbody tr th {\n",
       "        vertical-align: top;\n",
       "    }\n",
       "\n",
       "    .dataframe thead th {\n",
       "        text-align: right;\n",
       "    }\n",
       "</style>\n",
       "<table border=\"1\" class=\"dataframe\">\n",
       "  <thead>\n",
       "    <tr style=\"text-align: right;\">\n",
       "      <th></th>\n",
       "      <th></th>\n",
       "      <th>ni</th>\n",
       "      <th>fe</th>\n",
       "      <th>alu</th>\n",
       "    </tr>\n",
       "    <tr>\n",
       "      <th>sample</th>\n",
       "      <th>xrf</th>\n",
       "      <th></th>\n",
       "      <th></th>\n",
       "      <th></th>\n",
       "    </tr>\n",
       "  </thead>\n",
       "  <tbody>\n",
       "    <tr>\n",
       "      <th rowspan=\"3\" valign=\"top\">S1</th>\n",
       "      <th>2</th>\n",
       "      <td>0.64</td>\n",
       "      <td>48.52</td>\n",
       "      <td>9.94</td>\n",
       "    </tr>\n",
       "    <tr>\n",
       "      <th>3</th>\n",
       "      <td>0.63</td>\n",
       "      <td>48.35</td>\n",
       "      <td>10.04</td>\n",
       "    </tr>\n",
       "    <tr>\n",
       "      <th>4</th>\n",
       "      <td>0.63</td>\n",
       "      <td>48.48</td>\n",
       "      <td>8.11</td>\n",
       "    </tr>\n",
       "    <tr>\n",
       "      <th rowspan=\"3\" valign=\"top\">S11</th>\n",
       "      <th>2</th>\n",
       "      <td>0.98</td>\n",
       "      <td>8.16</td>\n",
       "      <td>1.66</td>\n",
       "    </tr>\n",
       "    <tr>\n",
       "      <th>3</th>\n",
       "      <td>1.00</td>\n",
       "      <td>8.30</td>\n",
       "      <td>1.62</td>\n",
       "    </tr>\n",
       "    <tr>\n",
       "      <th>4</th>\n",
       "      <td>0.98</td>\n",
       "      <td>8.22</td>\n",
       "      <td>1.05</td>\n",
       "    </tr>\n",
       "    <tr>\n",
       "      <th rowspan=\"3\" valign=\"top\">S12</th>\n",
       "      <th>2</th>\n",
       "      <td>1.37</td>\n",
       "      <td>13.66</td>\n",
       "      <td>1.47</td>\n",
       "    </tr>\n",
       "    <tr>\n",
       "      <th>3</th>\n",
       "      <td>1.39</td>\n",
       "      <td>13.96</td>\n",
       "      <td>1.35</td>\n",
       "    </tr>\n",
       "    <tr>\n",
       "      <th>4</th>\n",
       "      <td>1.37</td>\n",
       "      <td>13.50</td>\n",
       "      <td>1.10</td>\n",
       "    </tr>\n",
       "    <tr>\n",
       "      <th rowspan=\"3\" valign=\"top\">S2</th>\n",
       "      <th>2</th>\n",
       "      <td>0.66</td>\n",
       "      <td>51.48</td>\n",
       "      <td>6.65</td>\n",
       "    </tr>\n",
       "    <tr>\n",
       "      <th>3</th>\n",
       "      <td>0.64</td>\n",
       "      <td>51.20</td>\n",
       "      <td>6.77</td>\n",
       "    </tr>\n",
       "    <tr>\n",
       "      <th>4</th>\n",
       "      <td>0.65</td>\n",
       "      <td>51.83</td>\n",
       "      <td>6.47</td>\n",
       "    </tr>\n",
       "    <tr>\n",
       "      <th rowspan=\"3\" valign=\"top\">S3</th>\n",
       "      <th>2</th>\n",
       "      <td>1.01</td>\n",
       "      <td>53.12</td>\n",
       "      <td>3.31</td>\n",
       "    </tr>\n",
       "    <tr>\n",
       "      <th>3</th>\n",
       "      <td>0.98</td>\n",
       "      <td>52.92</td>\n",
       "      <td>3.37</td>\n",
       "    </tr>\n",
       "    <tr>\n",
       "      <th>4</th>\n",
       "      <td>0.99</td>\n",
       "      <td>53.72</td>\n",
       "      <td>3.98</td>\n",
       "    </tr>\n",
       "  </tbody>\n",
       "</table>\n",
       "</div>"
      ],
      "text/plain": [
       "              ni     fe    alu\n",
       "sample xrf                    \n",
       "S1     2    0.64  48.52   9.94\n",
       "       3    0.63  48.35  10.04\n",
       "       4    0.63  48.48   8.11\n",
       "S11    2    0.98   8.16   1.66\n",
       "       3    1.00   8.30   1.62\n",
       "       4    0.98   8.22   1.05\n",
       "S12    2    1.37  13.66   1.47\n",
       "       3    1.39  13.96   1.35\n",
       "       4    1.37  13.50   1.10\n",
       "S2     2    0.66  51.48   6.65\n",
       "       3    0.64  51.20   6.77\n",
       "       4    0.65  51.83   6.47\n",
       "S3     2    1.01  53.12   3.31\n",
       "       3    0.98  52.92   3.37\n",
       "       4    0.99  53.72   3.98"
      ]
     },
     "execution_count": 10,
     "metadata": {},
     "output_type": "execute_result"
    }
   ],
   "source": [
    "crm.groupby([\"sample\",\"xrf\"])[\"ni\",\"fe\",\"alu\"].mean().round(2)"
   ]
  },
  {
   "cell_type": "code",
   "execution_count": null,
   "id": "e42a5653",
   "metadata": {},
   "outputs": [],
   "source": [
    "git adbdhbqdhb"
   ]
  }
 ],
 "metadata": {
  "kernelspec": {
   "display_name": "Python 3 (ipykernel)",
   "language": "python",
   "name": "python3"
  },
  "language_info": {
   "codemirror_mode": {
    "name": "ipython",
    "version": 3
   },
   "file_extension": ".py",
   "mimetype": "text/x-python",
   "name": "python",
   "nbconvert_exporter": "python",
   "pygments_lexer": "ipython3",
   "version": "3.9.7"
  }
 },
 "nbformat": 4,
 "nbformat_minor": 5
}
