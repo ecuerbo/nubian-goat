{
 "cells": [
  {
   "cell_type": "markdown",
   "id": "07b9b937",
   "metadata": {},
   "source": [
    "### This is a study on data collected during a each batch of XRF runs"
   ]
  },
  {
   "cell_type": "code",
   "execution_count": 2,
   "id": "aa429624",
   "metadata": {},
   "outputs": [],
   "source": [
    "import pandas as pd\n",
    "import numpy as np\n",
    "\n",
    "df = pd.read_excel('data/crm.xlsx')\n",
    "df.columns =[\"sample\",\"ni\",\"fe\",\"co\",\"alu\",\"sil\",\"phos\",\"sul\",\"mag\",\"cal\",\"chrom\",\"man\",\"ti\",\"dt\",\"xrf\", \"note\"]\n",
    "#df.info()"
   ]
  },
  {
   "cell_type": "code",
   "execution_count": 3,
   "id": "828f988a",
   "metadata": {},
   "outputs": [
    {
     "name": "stdout",
     "output_type": "stream",
     "text": [
      "<class 'pandas.core.frame.DataFrame'>\n",
      "RangeIndex: 22241 entries, 0 to 22240\n",
      "Data columns (total 6 columns):\n",
      " #   Column  Non-Null Count  Dtype         \n",
      "---  ------  --------------  -----         \n",
      " 0   sample  22241 non-null  object        \n",
      " 1   xrf     22241 non-null  int64         \n",
      " 2   ni      22241 non-null  float64       \n",
      " 3   fe      22241 non-null  float64       \n",
      " 4   alu     22238 non-null  float64       \n",
      " 5   dt      22241 non-null  datetime64[ns]\n",
      "dtypes: datetime64[ns](1), float64(3), int64(1), object(1)\n",
      "memory usage: 1.0+ MB\n"
     ]
    }
   ],
   "source": [
    "imp = [\"sample\",'xrf',\"ni\",\"fe\",\"alu\",\"dt\"]\n",
    "crm = df[imp]\n",
    "#crm[\"sample\"] = crm[\"sample\"].astype('str')\n",
    "crm.info()"
   ]
  },
  {
   "cell_type": "code",
   "execution_count": 7,
   "id": "cec31726",
   "metadata": {},
   "outputs": [
    {
     "data": {
      "text/plain": [
       "<AxesSubplot:>"
      ]
     },
     "execution_count": 7,
     "metadata": {},
     "output_type": "execute_result"
    },
    {
     "data": {
      "image/png": "[encoded data removed]",
      "text/plain": [
       "<Figure size 432x288 with 1 Axes>"
      ]
     },
     "metadata": {
      "needs_background": "light"
     },
     "output_type": "display_data"
    }
   ],
   "source": [
    "crm['sample'].value_counts().plot(kind=\"bar\")"
   ]
  },
  {
   "cell_type": "code",
   "execution_count": 8,
   "id": "c4ede18a",
   "metadata": {},
   "outputs": [
    {
     "data": {
      "text/plain": [
       "<AxesSubplot:>"
      ]
     },
     "execution_count": 8,
     "metadata": {},
     "output_type": "execute_result"
    },
    {
     "data": {
      "image/png": "[encoded data removed]",
      "text/plain": [
       "<Figure size 432x288 with 1 Axes>"
      ]
     },
     "metadata": {
      "needs_background": "light"
     },
     "output_type": "display_data"
    }
   ],
   "source": [
    "crm['xrf'].value_counts().plot(kind=\"bar\", color=\"seagreen\")"
   ]
  },
  {
   "cell_type": "code",
   "execution_count": 19,
   "id": "8ed0e70a",
   "metadata": {},
   "outputs": [
    {
     "data": {
      "text/plain": [
       "['ni', 'fe', 'alu']"
      ]
     },
     "execution_count": 19,
     "metadata": {},
     "output_type": "execute_result"
    }
   ],
   "source": [
    "sample_unique=crm['sample'].unique()\n",
    "elem = [\"ni\",\"fe\",\"alu\"]\n",
    "sample_unique\n",
    "elem"
   ]
  },
  {
   "cell_type": "markdown",
   "id": "f9026da0",
   "metadata": {},
   "source": [
    "#1.) Daily element trend for different XRFs\n",
    "#2.) Did Fe trend change with time?\n"
   ]
  },
  {
   "cell_type": "code",
   "execution_count": 29,
   "id": "e42a5653",
   "metadata": {},
   "outputs": [
    {
     "data": {
      "text/html": [
       "<div>\n",
       "<style scoped>\n",
       "    .dataframe tbody tr th:only-of-type {\n",
       "        vertical-align: middle;\n",
       "    }\n",
       "\n",
       "    .dataframe tbody tr th {\n",
       "        vertical-align: top;\n",
       "    }\n",
       "\n",
       "    .dataframe thead th {\n",
       "        text-align: right;\n",
       "    }\n",
       "</style>\n",
       "<table border=\"1\" class=\"dataframe\">\n",
       "  <thead>\n",
       "    <tr style=\"text-align: right;\">\n",
       "      <th></th>\n",
       "      <th></th>\n",
       "      <th>min</th>\n",
       "      <th>max</th>\n",
       "      <th>mean</th>\n",
       "      <th>median</th>\n",
       "    </tr>\n",
       "    <tr>\n",
       "      <th>sample</th>\n",
       "      <th>xrf</th>\n",
       "      <th></th>\n",
       "      <th></th>\n",
       "      <th></th>\n",
       "      <th></th>\n",
       "    </tr>\n",
       "  </thead>\n",
       "  <tbody>\n",
       "    <tr>\n",
       "      <th rowspan=\"3\" valign=\"top\">S1</th>\n",
       "      <th>2</th>\n",
       "      <td>0.07</td>\n",
       "      <td>0.67</td>\n",
       "      <td>0.64</td>\n",
       "      <td>0.64</td>\n",
       "    </tr>\n",
       "    <tr>\n",
       "      <th>3</th>\n",
       "      <td>0.60</td>\n",
       "      <td>0.67</td>\n",
       "      <td>0.63</td>\n",
       "      <td>0.63</td>\n",
       "    </tr>\n",
       "    <tr>\n",
       "      <th>4</th>\n",
       "      <td>0.59</td>\n",
       "      <td>0.65</td>\n",
       "      <td>0.63</td>\n",
       "      <td>0.63</td>\n",
       "    </tr>\n",
       "    <tr>\n",
       "      <th rowspan=\"3\" valign=\"top\">S11</th>\n",
       "      <th>2</th>\n",
       "      <td>0.95</td>\n",
       "      <td>1.03</td>\n",
       "      <td>0.98</td>\n",
       "      <td>0.98</td>\n",
       "    </tr>\n",
       "    <tr>\n",
       "      <th>3</th>\n",
       "      <td>0.98</td>\n",
       "      <td>1.02</td>\n",
       "      <td>1.00</td>\n",
       "      <td>1.00</td>\n",
       "    </tr>\n",
       "    <tr>\n",
       "      <th>4</th>\n",
       "      <td>0.94</td>\n",
       "      <td>1.02</td>\n",
       "      <td>0.98</td>\n",
       "      <td>0.98</td>\n",
       "    </tr>\n",
       "    <tr>\n",
       "      <th rowspan=\"3\" valign=\"top\">S12</th>\n",
       "      <th>2</th>\n",
       "      <td>1.24</td>\n",
       "      <td>1.42</td>\n",
       "      <td>1.37</td>\n",
       "      <td>1.38</td>\n",
       "    </tr>\n",
       "    <tr>\n",
       "      <th>3</th>\n",
       "      <td>1.30</td>\n",
       "      <td>1.42</td>\n",
       "      <td>1.39</td>\n",
       "      <td>1.39</td>\n",
       "    </tr>\n",
       "    <tr>\n",
       "      <th>4</th>\n",
       "      <td>1.26</td>\n",
       "      <td>1.42</td>\n",
       "      <td>1.37</td>\n",
       "      <td>1.37</td>\n",
       "    </tr>\n",
       "    <tr>\n",
       "      <th rowspan=\"3\" valign=\"top\">S2</th>\n",
       "      <th>2</th>\n",
       "      <td>0.05</td>\n",
       "      <td>0.96</td>\n",
       "      <td>0.66</td>\n",
       "      <td>0.66</td>\n",
       "    </tr>\n",
       "    <tr>\n",
       "      <th>3</th>\n",
       "      <td>0.62</td>\n",
       "      <td>0.70</td>\n",
       "      <td>0.64</td>\n",
       "      <td>0.64</td>\n",
       "    </tr>\n",
       "    <tr>\n",
       "      <th>4</th>\n",
       "      <td>0.62</td>\n",
       "      <td>0.67</td>\n",
       "      <td>0.65</td>\n",
       "      <td>0.65</td>\n",
       "    </tr>\n",
       "    <tr>\n",
       "      <th rowspan=\"3\" valign=\"top\">S3</th>\n",
       "      <th>2</th>\n",
       "      <td>0.04</td>\n",
       "      <td>1.06</td>\n",
       "      <td>1.01</td>\n",
       "      <td>1.02</td>\n",
       "    </tr>\n",
       "    <tr>\n",
       "      <th>3</th>\n",
       "      <td>0.94</td>\n",
       "      <td>1.02</td>\n",
       "      <td>0.98</td>\n",
       "      <td>0.98</td>\n",
       "    </tr>\n",
       "    <tr>\n",
       "      <th>4</th>\n",
       "      <td>0.66</td>\n",
       "      <td>1.01</td>\n",
       "      <td>0.99</td>\n",
       "      <td>0.99</td>\n",
       "    </tr>\n",
       "  </tbody>\n",
       "</table>\n",
       "</div>"
      ],
      "text/plain": [
       "             min   max  mean  median\n",
       "sample xrf                          \n",
       "S1     2    0.07  0.67  0.64    0.64\n",
       "       3    0.60  0.67  0.63    0.63\n",
       "       4    0.59  0.65  0.63    0.63\n",
       "S11    2    0.95  1.03  0.98    0.98\n",
       "       3    0.98  1.02  1.00    1.00\n",
       "       4    0.94  1.02  0.98    0.98\n",
       "S12    2    1.24  1.42  1.37    1.38\n",
       "       3    1.30  1.42  1.39    1.39\n",
       "       4    1.26  1.42  1.37    1.37\n",
       "S2     2    0.05  0.96  0.66    0.66\n",
       "       3    0.62  0.70  0.64    0.64\n",
       "       4    0.62  0.67  0.65    0.65\n",
       "S3     2    0.04  1.06  1.01    1.02\n",
       "       3    0.94  1.02  0.98    0.98\n",
       "       4    0.66  1.01  0.99    0.99"
      ]
     },
     "execution_count": 29,
     "metadata": {},
     "output_type": "execute_result"
    }
   ],
   "source": [
    "crm.groupby([\"sample\",\"xrf\"])[\"ni\"].agg([min,max,np.mean,np.median]).round(2)"
   ]
  },
  {
   "cell_type": "code",
   "execution_count": 22,
   "id": "aadd1669",
   "metadata": {},
   "outputs": [
    {
     "data": {
      "text/html": [
       "<div>\n",
       "<style scoped>\n",
       "    .dataframe tbody tr th:only-of-type {\n",
       "        vertical-align: middle;\n",
       "    }\n",
       "\n",
       "    .dataframe tbody tr th {\n",
       "        vertical-align: top;\n",
       "    }\n",
       "\n",
       "    .dataframe thead th {\n",
       "        text-align: right;\n",
       "    }\n",
       "</style>\n",
       "<table border=\"1\" class=\"dataframe\">\n",
       "  <thead>\n",
       "    <tr style=\"text-align: right;\">\n",
       "      <th></th>\n",
       "      <th></th>\n",
       "      <th>ni</th>\n",
       "      <th>fe</th>\n",
       "      <th>alu</th>\n",
       "    </tr>\n",
       "    <tr>\n",
       "      <th>sample</th>\n",
       "      <th>xrf</th>\n",
       "      <th></th>\n",
       "      <th></th>\n",
       "      <th></th>\n",
       "    </tr>\n",
       "  </thead>\n",
       "  <tbody>\n",
       "    <tr>\n",
       "      <th rowspan=\"3\" valign=\"top\">S1</th>\n",
       "      <th>2</th>\n",
       "      <td>0.64</td>\n",
       "      <td>48.55</td>\n",
       "      <td>9.96</td>\n",
       "    </tr>\n",
       "    <tr>\n",
       "      <th>3</th>\n",
       "      <td>0.63</td>\n",
       "      <td>48.35</td>\n",
       "      <td>10.03</td>\n",
       "    </tr>\n",
       "    <tr>\n",
       "      <th>4</th>\n",
       "      <td>0.63</td>\n",
       "      <td>48.45</td>\n",
       "      <td>8.28</td>\n",
       "    </tr>\n",
       "    <tr>\n",
       "      <th rowspan=\"3\" valign=\"top\">S11</th>\n",
       "      <th>2</th>\n",
       "      <td>0.98</td>\n",
       "      <td>8.14</td>\n",
       "      <td>1.73</td>\n",
       "    </tr>\n",
       "    <tr>\n",
       "      <th>3</th>\n",
       "      <td>1.00</td>\n",
       "      <td>8.30</td>\n",
       "      <td>1.61</td>\n",
       "    </tr>\n",
       "    <tr>\n",
       "      <th>4</th>\n",
       "      <td>0.98</td>\n",
       "      <td>7.85</td>\n",
       "      <td>1.05</td>\n",
       "    </tr>\n",
       "    <tr>\n",
       "      <th rowspan=\"3\" valign=\"top\">S12</th>\n",
       "      <th>2</th>\n",
       "      <td>1.38</td>\n",
       "      <td>13.64</td>\n",
       "      <td>1.53</td>\n",
       "    </tr>\n",
       "    <tr>\n",
       "      <th>3</th>\n",
       "      <td>1.39</td>\n",
       "      <td>13.96</td>\n",
       "      <td>1.35</td>\n",
       "    </tr>\n",
       "    <tr>\n",
       "      <th>4</th>\n",
       "      <td>1.37</td>\n",
       "      <td>13.37</td>\n",
       "      <td>1.12</td>\n",
       "    </tr>\n",
       "    <tr>\n",
       "      <th rowspan=\"3\" valign=\"top\">S2</th>\n",
       "      <th>2</th>\n",
       "      <td>0.66</td>\n",
       "      <td>51.53</td>\n",
       "      <td>6.64</td>\n",
       "    </tr>\n",
       "    <tr>\n",
       "      <th>3</th>\n",
       "      <td>0.64</td>\n",
       "      <td>51.21</td>\n",
       "      <td>6.75</td>\n",
       "    </tr>\n",
       "    <tr>\n",
       "      <th>4</th>\n",
       "      <td>0.65</td>\n",
       "      <td>51.80</td>\n",
       "      <td>6.62</td>\n",
       "    </tr>\n",
       "    <tr>\n",
       "      <th rowspan=\"3\" valign=\"top\">S3</th>\n",
       "      <th>2</th>\n",
       "      <td>1.02</td>\n",
       "      <td>53.17</td>\n",
       "      <td>3.33</td>\n",
       "    </tr>\n",
       "    <tr>\n",
       "      <th>3</th>\n",
       "      <td>0.98</td>\n",
       "      <td>52.91</td>\n",
       "      <td>3.38</td>\n",
       "    </tr>\n",
       "    <tr>\n",
       "      <th>4</th>\n",
       "      <td>0.99</td>\n",
       "      <td>53.81</td>\n",
       "      <td>4.03</td>\n",
       "    </tr>\n",
       "  </tbody>\n",
       "</table>\n",
       "</div>"
      ],
      "text/plain": [
       "              ni     fe    alu\n",
       "sample xrf                    \n",
       "S1     2    0.64  48.55   9.96\n",
       "       3    0.63  48.35  10.03\n",
       "       4    0.63  48.45   8.28\n",
       "S11    2    0.98   8.14   1.73\n",
       "       3    1.00   8.30   1.61\n",
       "       4    0.98   7.85   1.05\n",
       "S12    2    1.38  13.64   1.53\n",
       "       3    1.39  13.96   1.35\n",
       "       4    1.37  13.37   1.12\n",
       "S2     2    0.66  51.53   6.64\n",
       "       3    0.64  51.21   6.75\n",
       "       4    0.65  51.80   6.62\n",
       "S3     2    1.02  53.17   3.33\n",
       "       3    0.98  52.91   3.38\n",
       "       4    0.99  53.81   4.03"
      ]
     },
     "execution_count": 22,
     "metadata": {},
     "output_type": "execute_result"
    }
   ],
   "source": [
    "crm.groupby([\"sample\",\"xrf\"])[elem].median().round(2)"
   ]
  },
  {
   "cell_type": "code",
   "execution_count": 44,
   "id": "11e850fb",
   "metadata": {},
   "outputs": [],
   "source": [
    "s1 = crm[crm['sample']==\"S1\"]\n",
    "s1 = s1.set_index('dt')"
   ]
  },
  {
   "cell_type": "code",
   "execution_count": 46,
   "id": "91219e01",
   "metadata": {},
   "outputs": [
    {
     "data": {
      "text/html": [
       "<div>\n",
       "<style scoped>\n",
       "    .dataframe tbody tr th:only-of-type {\n",
       "        vertical-align: middle;\n",
       "    }\n",
       "\n",
       "    .dataframe tbody tr th {\n",
       "        vertical-align: top;\n",
       "    }\n",
       "\n",
       "    .dataframe thead th {\n",
       "        text-align: right;\n",
       "    }\n",
       "</style>\n",
       "<table border=\"1\" class=\"dataframe\">\n",
       "  <thead>\n",
       "    <tr style=\"text-align: right;\">\n",
       "      <th></th>\n",
       "      <th>xrf</th>\n",
       "      <th>ni</th>\n",
       "      <th>fe</th>\n",
       "      <th>alu</th>\n",
       "    </tr>\n",
       "    <tr>\n",
       "      <th>dt</th>\n",
       "      <th></th>\n",
       "      <th></th>\n",
       "      <th></th>\n",
       "      <th></th>\n",
       "    </tr>\n",
       "  </thead>\n",
       "  <tbody>\n",
       "    <tr>\n",
       "      <th>2021-06-06</th>\n",
       "      <td>2.555556</td>\n",
       "      <td>0.638144</td>\n",
       "      <td>48.700000</td>\n",
       "      <td>10.582222</td>\n",
       "    </tr>\n",
       "    <tr>\n",
       "      <th>2021-06-07</th>\n",
       "      <td>NaN</td>\n",
       "      <td>NaN</td>\n",
       "      <td>NaN</td>\n",
       "      <td>NaN</td>\n",
       "    </tr>\n",
       "    <tr>\n",
       "      <th>2021-06-08</th>\n",
       "      <td>NaN</td>\n",
       "      <td>NaN</td>\n",
       "      <td>NaN</td>\n",
       "      <td>NaN</td>\n",
       "    </tr>\n",
       "    <tr>\n",
       "      <th>2021-06-09</th>\n",
       "      <td>NaN</td>\n",
       "      <td>NaN</td>\n",
       "      <td>NaN</td>\n",
       "      <td>NaN</td>\n",
       "    </tr>\n",
       "    <tr>\n",
       "      <th>2021-06-10</th>\n",
       "      <td>NaN</td>\n",
       "      <td>NaN</td>\n",
       "      <td>NaN</td>\n",
       "      <td>NaN</td>\n",
       "    </tr>\n",
       "    <tr>\n",
       "      <th>...</th>\n",
       "      <td>...</td>\n",
       "      <td>...</td>\n",
       "      <td>...</td>\n",
       "      <td>...</td>\n",
       "    </tr>\n",
       "    <tr>\n",
       "      <th>2022-11-17</th>\n",
       "      <td>2.500000</td>\n",
       "      <td>0.633600</td>\n",
       "      <td>48.092500</td>\n",
       "      <td>10.302500</td>\n",
       "    </tr>\n",
       "    <tr>\n",
       "      <th>2022-11-18</th>\n",
       "      <td>2.833333</td>\n",
       "      <td>0.632417</td>\n",
       "      <td>48.142500</td>\n",
       "      <td>9.469833</td>\n",
       "    </tr>\n",
       "    <tr>\n",
       "      <th>2022-11-19</th>\n",
       "      <td>3.068966</td>\n",
       "      <td>0.630572</td>\n",
       "      <td>48.234138</td>\n",
       "      <td>8.991690</td>\n",
       "    </tr>\n",
       "    <tr>\n",
       "      <th>2022-11-20</th>\n",
       "      <td>2.851852</td>\n",
       "      <td>0.632544</td>\n",
       "      <td>48.184815</td>\n",
       "      <td>9.236222</td>\n",
       "    </tr>\n",
       "    <tr>\n",
       "      <th>2022-11-21</th>\n",
       "      <td>3.600000</td>\n",
       "      <td>0.623380</td>\n",
       "      <td>48.014000</td>\n",
       "      <td>8.075400</td>\n",
       "    </tr>\n",
       "  </tbody>\n",
       "</table>\n",
       "<p>534 rows × 4 columns</p>\n",
       "</div>"
      ],
      "text/plain": [
       "                 xrf        ni         fe        alu\n",
       "dt                                                  \n",
       "2021-06-06  2.555556  0.638144  48.700000  10.582222\n",
       "2021-06-07       NaN       NaN        NaN        NaN\n",
       "2021-06-08       NaN       NaN        NaN        NaN\n",
       "2021-06-09       NaN       NaN        NaN        NaN\n",
       "2021-06-10       NaN       NaN        NaN        NaN\n",
       "...              ...       ...        ...        ...\n",
       "2022-11-17  2.500000  0.633600  48.092500  10.302500\n",
       "2022-11-18  2.833333  0.632417  48.142500   9.469833\n",
       "2022-11-19  3.068966  0.630572  48.234138   8.991690\n",
       "2022-11-20  2.851852  0.632544  48.184815   9.236222\n",
       "2022-11-21  3.600000  0.623380  48.014000   8.075400\n",
       "\n",
       "[534 rows x 4 columns]"
      ]
     },
     "execution_count": 46,
     "metadata": {},
     "output_type": "execute_result"
    }
   ],
   "source": [
    "#precip_2005_clean.resample(\"D\").mean()\n",
    "s1.resample(\"D\").mean()"
   ]
  },
  {
   "cell_type": "code",
   "execution_count": 47,
   "id": "2b95023e",
   "metadata": {},
   "outputs": [
    {
     "data": {
      "text/html": [
       "<div>\n",
       "<style scoped>\n",
       "    .dataframe tbody tr th:only-of-type {\n",
       "        vertical-align: middle;\n",
       "    }\n",
       "\n",
       "    .dataframe tbody tr th {\n",
       "        vertical-align: top;\n",
       "    }\n",
       "\n",
       "    .dataframe thead th {\n",
       "        text-align: right;\n",
       "    }\n",
       "</style>\n",
       "<table border=\"1\" class=\"dataframe\">\n",
       "  <thead>\n",
       "    <tr style=\"text-align: right;\">\n",
       "      <th></th>\n",
       "      <th></th>\n",
       "      <th>ni</th>\n",
       "      <th>fe</th>\n",
       "      <th>alu</th>\n",
       "    </tr>\n",
       "    <tr>\n",
       "      <th>xrf</th>\n",
       "      <th>dt</th>\n",
       "      <th></th>\n",
       "      <th></th>\n",
       "      <th></th>\n",
       "    </tr>\n",
       "  </thead>\n",
       "  <tbody>\n",
       "    <tr>\n",
       "      <th rowspan=\"5\" valign=\"top\">2</th>\n",
       "      <th>2021-06-06</th>\n",
       "      <td>0.630350</td>\n",
       "      <td>48.212500</td>\n",
       "      <td>10.350000</td>\n",
       "    </tr>\n",
       "    <tr>\n",
       "      <th>2021-06-07</th>\n",
       "      <td>NaN</td>\n",
       "      <td>NaN</td>\n",
       "      <td>NaN</td>\n",
       "    </tr>\n",
       "    <tr>\n",
       "      <th>2021-06-08</th>\n",
       "      <td>NaN</td>\n",
       "      <td>NaN</td>\n",
       "      <td>NaN</td>\n",
       "    </tr>\n",
       "    <tr>\n",
       "      <th>2021-06-09</th>\n",
       "      <td>NaN</td>\n",
       "      <td>NaN</td>\n",
       "      <td>NaN</td>\n",
       "    </tr>\n",
       "    <tr>\n",
       "      <th>2021-06-10</th>\n",
       "      <td>NaN</td>\n",
       "      <td>NaN</td>\n",
       "      <td>NaN</td>\n",
       "    </tr>\n",
       "    <tr>\n",
       "      <th>...</th>\n",
       "      <th>...</th>\n",
       "      <td>...</td>\n",
       "      <td>...</td>\n",
       "      <td>...</td>\n",
       "    </tr>\n",
       "    <tr>\n",
       "      <th rowspan=\"5\" valign=\"top\">4</th>\n",
       "      <th>2022-11-17</th>\n",
       "      <td>NaN</td>\n",
       "      <td>NaN</td>\n",
       "      <td>NaN</td>\n",
       "    </tr>\n",
       "    <tr>\n",
       "      <th>2022-11-18</th>\n",
       "      <td>0.628200</td>\n",
       "      <td>48.025000</td>\n",
       "      <td>6.914500</td>\n",
       "    </tr>\n",
       "    <tr>\n",
       "      <th>2022-11-19</th>\n",
       "      <td>0.623858</td>\n",
       "      <td>48.072500</td>\n",
       "      <td>7.167417</td>\n",
       "    </tr>\n",
       "    <tr>\n",
       "      <th>2022-11-20</th>\n",
       "      <td>0.629710</td>\n",
       "      <td>47.994000</td>\n",
       "      <td>6.898200</td>\n",
       "    </tr>\n",
       "    <tr>\n",
       "      <th>2022-11-21</th>\n",
       "      <td>0.627700</td>\n",
       "      <td>47.923333</td>\n",
       "      <td>6.896667</td>\n",
       "    </tr>\n",
       "  </tbody>\n",
       "</table>\n",
       "<p>1416 rows × 3 columns</p>\n",
       "</div>"
      ],
      "text/plain": [
       "                      ni         fe        alu\n",
       "xrf dt                                        \n",
       "2   2021-06-06  0.630350  48.212500  10.350000\n",
       "    2021-06-07       NaN        NaN        NaN\n",
       "    2021-06-08       NaN        NaN        NaN\n",
       "    2021-06-09       NaN        NaN        NaN\n",
       "    2021-06-10       NaN        NaN        NaN\n",
       "...                  ...        ...        ...\n",
       "4   2022-11-17       NaN        NaN        NaN\n",
       "    2022-11-18  0.628200  48.025000   6.914500\n",
       "    2022-11-19  0.623858  48.072500   7.167417\n",
       "    2022-11-20  0.629710  47.994000   6.898200\n",
       "    2022-11-21  0.627700  47.923333   6.896667\n",
       "\n",
       "[1416 rows x 3 columns]"
      ]
     },
     "execution_count": 47,
     "metadata": {},
     "output_type": "execute_result"
    }
   ],
   "source": [
    "s1.groupby(\"xrf\")[elem].resample(\"D\").mean()"
   ]
  },
  {
   "cell_type": "code",
   "execution_count": 43,
   "id": "d8a1cc56",
   "metadata": {},
   "outputs": [
    {
     "data": {
      "text/html": [
       "<div>\n",
       "<style scoped>\n",
       "    .dataframe tbody tr th:only-of-type {\n",
       "        vertical-align: middle;\n",
       "    }\n",
       "\n",
       "    .dataframe tbody tr th {\n",
       "        vertical-align: top;\n",
       "    }\n",
       "\n",
       "    .dataframe thead th {\n",
       "        text-align: right;\n",
       "    }\n",
       "</style>\n",
       "<table border=\"1\" class=\"dataframe\">\n",
       "  <thead>\n",
       "    <tr style=\"text-align: right;\">\n",
       "      <th></th>\n",
       "      <th>sample</th>\n",
       "      <th>xrf</th>\n",
       "      <th>ni</th>\n",
       "      <th>fe</th>\n",
       "      <th>alu</th>\n",
       "      <th>dt</th>\n",
       "    </tr>\n",
       "  </thead>\n",
       "  <tbody>\n",
       "    <tr>\n",
       "      <th>0</th>\n",
       "      <td>S1</td>\n",
       "      <td>3</td>\n",
       "      <td>0.6344</td>\n",
       "      <td>48.71</td>\n",
       "      <td>10.25</td>\n",
       "      <td>2021-06-06 03:50:24.000</td>\n",
       "    </tr>\n",
       "    <tr>\n",
       "      <th>1</th>\n",
       "      <td>S1</td>\n",
       "      <td>3</td>\n",
       "      <td>0.6342</td>\n",
       "      <td>49.41</td>\n",
       "      <td>10.47</td>\n",
       "      <td>2021-06-06 09:21:36.000</td>\n",
       "    </tr>\n",
       "    <tr>\n",
       "      <th>2</th>\n",
       "      <td>S1</td>\n",
       "      <td>2</td>\n",
       "      <td>0.6303</td>\n",
       "      <td>48.10</td>\n",
       "      <td>10.17</td>\n",
       "      <td>2021-06-06 14:09:36.000</td>\n",
       "    </tr>\n",
       "    <tr>\n",
       "      <th>3</th>\n",
       "      <td>S1</td>\n",
       "      <td>2</td>\n",
       "      <td>0.6191</td>\n",
       "      <td>48.43</td>\n",
       "      <td>10.19</td>\n",
       "      <td>2021-06-06 16:17:36.960</td>\n",
       "    </tr>\n",
       "    <tr>\n",
       "      <th>4</th>\n",
       "      <td>S1</td>\n",
       "      <td>2</td>\n",
       "      <td>0.6384</td>\n",
       "      <td>48.03</td>\n",
       "      <td>10.46</td>\n",
       "      <td>2021-06-06 16:19:12.000</td>\n",
       "    </tr>\n",
       "  </tbody>\n",
       "</table>\n",
       "</div>"
      ],
      "text/plain": [
       "  sample  xrf      ni     fe    alu                      dt\n",
       "0     S1    3  0.6344  48.71  10.25 2021-06-06 03:50:24.000\n",
       "1     S1    3  0.6342  49.41  10.47 2021-06-06 09:21:36.000\n",
       "2     S1    2  0.6303  48.10  10.17 2021-06-06 14:09:36.000\n",
       "3     S1    2  0.6191  48.43  10.19 2021-06-06 16:17:36.960\n",
       "4     S1    2  0.6384  48.03  10.46 2021-06-06 16:19:12.000"
      ]
     },
     "execution_count": 43,
     "metadata": {},
     "output_type": "execute_result"
    }
   ],
   "source": [
    "s1.groupby(\"xrf\")[elem].resample(\"D\").mean()c"
   ]
  },
  {
   "cell_type": "code",
   "execution_count": null,
   "id": "0467b7ed",
   "metadata": {},
   "outputs": [],
   "source": [
    "crm = crm.set_index('dt')"
   ]
  },
  {
   "cell_type": "code",
   "execution_count": 59,
   "id": "322d7e6d",
   "metadata": {},
   "outputs": [],
   "source": [
    "fe_grouped = crm.groupby([\"sample\",\"xrf\"])[\"fe\"].resample('D').mean()"
   ]
  },
  {
   "cell_type": "code",
   "execution_count": 60,
   "id": "99dbe67d",
   "metadata": {},
   "outputs": [],
   "source": [
    "fe_grouped.dropna(how=\"all\", inplace=True)"
   ]
  },
  {
   "cell_type": "code",
   "execution_count": 65,
   "id": "522d7909",
   "metadata": {},
   "outputs": [
    {
     "data": {
      "text/plain": [
       "<AxesSubplot:xlabel='xrf,dt'>"
      ]
     },
     "execution_count": 65,
     "metadata": {},
     "output_type": "execute_result"
    },
    {
     "data": {
      "image/png": "[encoded data removed]",
      "text/plain": [
       "<Figure size 432x288 with 1 Axes>"
      ]
     },
     "metadata": {
      "needs_background": "light"
     },
     "output_type": "display_data"
    }
   ],
   "source": [
    "fe_grouped['S1'].plot()"
   ]
  },
  {
   "cell_type": "code",
   "execution_count": 68,
   "id": "ba69a14a",
   "metadata": {},
   "outputs": [
    {
     "data": {
      "image/png": "[encoded data removed]",
      "text/plain": [
       "<Figure size 432x288 with 1 Axes>"
      ]
     },
     "metadata": {
      "needs_background": "light"
     },
     "output_type": "display_data"
    }
   ],
   "source": [
    "for sample in sample_unique:\n",
    "    fe_grouped[sample].plot()"
   ]
  },
  {
   "cell_type": "code",
   "execution_count": 73,
   "id": "ed93c5fe",
   "metadata": {},
   "outputs": [
    {
     "data": {
      "text/plain": [
       "<AxesSubplot:xlabel='xrf,dt'>"
      ]
     },
     "execution_count": 73,
     "metadata": {},
     "output_type": "execute_result"
    },
    {
     "data": {
      "image/png": "[encoded data removed]",
      "text/plain": [
       "<Figure size 432x288 with 1 Axes>"
      ]
     },
     "metadata": {
      "needs_background": "light"
     },
     "output_type": "display_data"
    }
   ],
   "source": [
    "fe_grouped['S2'].plot()"
   ]
  },
  {
   "cell_type": "code",
   "execution_count": 74,
   "id": "64ec5b98",
   "metadata": {},
   "outputs": [
    {
     "data": {
      "text/plain": [
       "<AxesSubplot:xlabel='xrf,dt'>"
      ]
     },
     "execution_count": 74,
     "metadata": {},
     "output_type": "execute_result"
    },
    {
     "data": {
      "image/png": "[encoded data removed]",
      "text/plain": [
       "<Figure size 432x288 with 1 Axes>"
      ]
     },
     "metadata": {
      "needs_background": "light"
     },
     "output_type": "display_data"
    }
   ],
   "source": [
    "fe_grouped['S3'].plot()"
   ]
  },
  {
   "cell_type": "code",
   "execution_count": 76,
   "id": "86543a6d",
   "metadata": {},
   "outputs": [
    {
     "data": {
      "text/plain": [
       "<AxesSubplot:xlabel='xrf,dt'>"
      ]
     },
     "execution_count": 76,
     "metadata": {},
     "output_type": "execute_result"
    },
    {
     "data": {
      "image/png": "[encoded data removed]",
      "text/plain": [
       "<Figure size 432x288 with 1 Axes>"
      ]
     },
     "metadata": {
      "needs_background": "light"
     },
     "output_type": "display_data"
    }
   ],
   "source": [
    "fe_grouped['S12'].plot()"
   ]
  },
  {
   "cell_type": "code",
   "execution_count": 79,
   "id": "0ab7361d",
   "metadata": {},
   "outputs": [
    {
     "data": {
      "text/plain": [
       "sample  xrf  dt        \n",
       "S1      2    2021-06-06    48.212500\n",
       "             2021-06-30    48.960000\n",
       "             2021-07-01    48.633333\n",
       "             2021-07-02    48.635000\n",
       "             2021-07-03    48.740000\n",
       "Name: fe, dtype: float64"
      ]
     },
     "execution_count": 79,
     "metadata": {},
     "output_type": "execute_result"
    }
   ],
   "source": [
    "fe_grouped.head()"
   ]
  },
  {
   "cell_type": "code",
   "execution_count": 85,
   "id": "c866dfd0",
   "metadata": {},
   "outputs": [],
   "source": [
    "S1 = crm[crm[\"sample\"]==\"S1\"]\n",
    "S2 = crm[crm[\"sample\"]==\"S2\"]\n",
    "S3 = crm[crm[\"sample\"]==\"S3\"]\n",
    "S11 = crm[crm[\"sample\"]==\"S11\"]\n",
    "S12 = crm[crm[\"sample\"]==\"S12\"]"
   ]
  },
  {
   "cell_type": "code",
   "execution_count": 89,
   "id": "6eabf564",
   "metadata": {},
   "outputs": [
    {
     "data": {
      "text/plain": [
       "<AxesSubplot:xlabel='dt'>"
      ]
     },
     "execution_count": 89,
     "metadata": {},
     "output_type": "execute_result"
    },
    {
     "data": {
      "image/png": "[encoded data removed]",
      "text/plain": [
       "<Figure size 432x288 with 1 Axes>"
      ]
     },
     "metadata": {
      "needs_background": "light"
     },
     "output_type": "display_data"
    }
   ],
   "source": [
    "S2['fe'].plot()"
   ]
  },
  {
   "cell_type": "code",
   "execution_count": null,
   "id": "92cd0e64",
   "metadata": {},
   "outputs": [],
   "source": []
  }
 ],
 "metadata": {
  "kernelspec": {
   "display_name": "Python 3 (ipykernel)",
   "language": "python",
   "name": "python3"
  },
  "language_info": {
   "codemirror_mode": {
    "name": "ipython",
    "version": 3
   },
   "file_extension": ".py",
   "mimetype": "text/x-python",
   "name": "python",
   "nbconvert_exporter": "python",
   "pygments_lexer": "ipython3",
   "version": "3.9.7"
  }
 },
 "nbformat": 4,
 "nbformat_minor": 5
}
