{
 "cells": [
  {
   "cell_type": "code",
   "execution_count": 1,
   "id": "851187db",
   "metadata": {},
   "outputs": [
    {
     "name": "stdout",
     "output_type": "stream",
     "text": [
      "<class 'pandas.core.frame.DataFrame'>\n",
      "RangeIndex: 32561 entries, 0 to 32560\n",
      "Data columns (total 15 columns):\n",
      " #   Column          Non-Null Count  Dtype \n",
      "---  ------          --------------  ----- \n",
      " 0   age             32561 non-null  int64 \n",
      " 1   workclass       32561 non-null  object\n",
      " 2   fnlwgt          32561 non-null  int64 \n",
      " 3   education       32561 non-null  object\n",
      " 4   education.num   32561 non-null  int64 \n",
      " 5   marital.status  32561 non-null  object\n",
      " 6   occupation      32561 non-null  object\n",
      " 7   relationship    32561 non-null  object\n",
      " 8   race            32561 non-null  object\n",
      " 9   sex             32561 non-null  object\n",
      " 10  capital.gain    32561 non-null  int64 \n",
      " 11  capital.loss    32561 non-null  int64 \n",
      " 12  hours.per.week  32561 non-null  int64 \n",
      " 13  native.country  32561 non-null  object\n",
      " 14  income          32561 non-null  object\n",
      "dtypes: int64(6), object(9)\n",
      "memory usage: 3.7+ MB\n"
     ]
    }
   ],
   "source": [
    "import pandas as pd\n",
    "adult = pd.read_csv('/Users/ecuerbo/Desktop/data/adult.csv')\n",
    "adult.info()"
   ]
  },
  {
   "cell_type": "code",
   "execution_count": 4,
   "id": "0f91cc57",
   "metadata": {},
   "outputs": [
    {
     "name": "stdout",
     "output_type": "stream",
     "text": [
      "age                  int64\n",
      "workclass         category\n",
      "fnlwgt               int64\n",
      "education         category\n",
      "education.num        int64\n",
      "marital.status    category\n",
      "occupation          object\n",
      "relationship      category\n",
      "race                object\n",
      "sex               category\n",
      "capital.gain         int64\n",
      "capital.loss         int64\n",
      "hours.per.week       int64\n",
      "native.country      object\n",
      "income            category\n",
      "dtype: object\n"
     ]
    }
   ],
   "source": [
    "adult_dtypes = {\n",
    "    \"workclass\" : \"category\",\n",
    "    \"education\" : \"category\",\n",
    "    \"relationship\":'category',\n",
    "    'marital.status':'category',\n",
    "    'income':\"category\",\n",
    "    \"sex\":\"category\"\n",
    "}\n",
    "\n",
    "adult=pd.read_csv(\n",
    "    '/Users/ecuerbo/Desktop/data/adult.csv',\n",
    "    dtype=adult_dtypes)\n",
    "print(adult.dtypes)"
   ]
  },
  {
   "cell_type": "code",
   "execution_count": 14,
   "id": "2103055d",
   "metadata": {},
   "outputs": [
    {
     "data": {
      "text/plain": [
       "native.country  sex     income\n",
       "United-States   Male    <=50K     711\n",
       "                        >50K      109\n",
       "Mexico          Male    <=50K      72\n",
       "United-States   Female  <=50K      57\n",
       "?               Male    <=50K       5\n",
       "Puerto-Rico     Male    <=50K       4\n",
       "Philippines     Male    <=50K       4\n",
       "Mexico          Female  <=50K       3\n",
       "Guatemala       Female  <=50K       2\n",
       "Vietnam         Male    <=50K       2\n",
       "Canada          Male    <=50K       2\n",
       "Italy           Male    <=50K       2\n",
       "Cuba            Male    <=50K       2\n",
       "United-States   Female  >50K        2\n",
       "El-Salvador     Male    <=50K       2\n",
       "Mexico          Male    >50K        2\n",
       "Guatemala       Male    <=50K       2\n",
       "Puerto-Rico     Female  <=50K       1\n",
       "England         Male    <=50K       1\n",
       "Poland          Male    <=50K       1\n",
       "Portugal        Male    <=50K       1\n",
       "France          Male    <=50K       1\n",
       "Germany         Male    <=50K       1\n",
       "Cambodia        Male    >50K        1\n",
       "Japan           Male    <=50K       1\n",
       "Ireland         Male    <=50K       1\n",
       "Hong            Male    <=50K       1\n",
       "Yugoslavia      Male    >50K        1\n",
       "dtype: int64"
      ]
     },
     "execution_count": 14,
     "metadata": {},
     "output_type": "execute_result"
    }
   ],
   "source": [
    "adult[adult[\"occupation\"]=='Farming-fishing'][['native.country', 'sex', 'income']].value_counts()"
   ]
  },
  {
   "cell_type": "code",
   "execution_count": null,
   "id": "b37bd7e1",
   "metadata": {},
   "outputs": [],
   "source": [
    "adult[adult['workclass']=='Never-worked'][['sex','income','native.country']].value_counts()"
   ]
  },
  {
   "cell_type": "code",
   "execution_count": 10,
   "id": "798a05f8",
   "metadata": {},
   "outputs": [
    {
     "data": {
      "text/plain": [
       "Prof-specialty       4140\n",
       "Craft-repair         4099\n",
       "Exec-managerial      4066\n",
       "Adm-clerical         3770\n",
       "Sales                3650\n",
       "Other-service        3295\n",
       "Machine-op-inspct    2002\n",
       "?                    1843\n",
       "Transport-moving     1597\n",
       "Handlers-cleaners    1370\n",
       "Farming-fishing       994\n",
       "Tech-support          928\n",
       "Protective-serv       649\n",
       "Priv-house-serv       149\n",
       "Armed-Forces            9\n",
       "Name: occupation, dtype: int64"
      ]
     },
     "execution_count": 10,
     "metadata": {},
     "output_type": "execute_result"
    }
   ],
   "source": [
    "adult['occupation'].value_counts()"
   ]
  },
  {
   "cell_type": "code",
   "execution_count": null,
   "id": "e922d771",
   "metadata": {},
   "outputs": [],
   "source": []
  }
 ],
 "metadata": {
  "kernelspec": {
   "display_name": "Python 3 (ipykernel)",
   "language": "python",
   "name": "python3"
  },
  "language_info": {
   "codemirror_mode": {
    "name": "ipython",
    "version": 3
   },
   "file_extension": ".py",
   "mimetype": "text/x-python",
   "name": "python",
   "nbconvert_exporter": "python",
   "pygments_lexer": "ipython3",
   "version": "3.9.7"
  }
 },
 "nbformat": 4,
 "nbformat_minor": 5
}
