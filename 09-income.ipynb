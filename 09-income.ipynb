{
 "cells": [
  {
   "cell_type": "code",
   "execution_count": 1,
   "id": "851187db",
   "metadata": {},
   "outputs": [
    {
     "name": "stdout",
     "output_type": "stream",
     "text": [
      "<class 'pandas.core.frame.DataFrame'>\n",
      "RangeIndex: 32561 entries, 0 to 32560\n",
      "Data columns (total 15 columns):\n",
      " #   Column          Non-Null Count  Dtype \n",
      "---  ------          --------------  ----- \n",
      " 0   age             32561 non-null  int64 \n",
      " 1   workclass       32561 non-null  object\n",
      " 2   fnlwgt          32561 non-null  int64 \n",
      " 3   education       32561 non-null  object\n",
      " 4   education.num   32561 non-null  int64 \n",
      " 5   marital.status  32561 non-null  object\n",
      " 6   occupation      32561 non-null  object\n",
      " 7   relationship    32561 non-null  object\n",
      " 8   race            32561 non-null  object\n",
      " 9   sex             32561 non-null  object\n",
      " 10  capital.gain    32561 non-null  int64 \n",
      " 11  capital.loss    32561 non-null  int64 \n",
      " 12  hours.per.week  32561 non-null  int64 \n",
      " 13  native.country  32561 non-null  object\n",
      " 14  income          32561 non-null  object\n",
      "dtypes: int64(6), object(9)\n",
      "memory usage: 3.7+ MB\n"
     ]
    }
   ],
   "source": [
    "import pandas as pd\n",
    "adult = pd.read_csv('/Users/ecuerbo/Desktop/data/adult.csv')\n",
    "adult.info()"
   ]
  },
  {
   "cell_type": "code",
   "execution_count": 2,
   "id": "0f91cc57",
   "metadata": {},
   "outputs": [
    {
     "name": "stdout",
     "output_type": "stream",
     "text": [
      "age                  int64\n",
      "workclass         category\n",
      "fnlwgt               int64\n",
      "education         category\n",
      "education.num        int64\n",
      "marital.status    category\n",
      "occupation          object\n",
      "relationship      category\n",
      "race                object\n",
      "sex               category\n",
      "capital.gain         int64\n",
      "capital.loss         int64\n",
      "hours.per.week       int64\n",
      "native.country      object\n",
      "income            category\n",
      "dtype: object\n"
     ]
    }
   ],
   "source": [
    "adult_dtypes = {\n",
    "    \"workclass\" : \"category\",\n",
    "    \"education\" : \"category\",\n",
    "    \"relationship\":'category',\n",
    "    'marital.status':'category',\n",
    "    'income':\"category\",\n",
    "    \"sex\":\"category\"\n",
    "}\n",
    "\n",
    "adult=pd.read_csv(\n",
    "    '/Users/ecuerbo/Desktop/data/adult.csv',\n",
    "    dtype=adult_dtypes)\n",
    "print(adult.dtypes)"
   ]
  },
  {
   "cell_type": "code",
   "execution_count": 3,
   "id": "2103055d",
   "metadata": {},
   "outputs": [
    {
     "data": {
      "text/plain": [
       "native.country  sex     income\n",
       "United-States   Male    <=50K     711\n",
       "                        >50K      109\n",
       "Mexico          Male    <=50K      72\n",
       "United-States   Female  <=50K      57\n",
       "?               Male    <=50K       5\n",
       "Puerto-Rico     Male    <=50K       4\n",
       "Philippines     Male    <=50K       4\n",
       "Mexico          Female  <=50K       3\n",
       "Guatemala       Female  <=50K       2\n",
       "Vietnam         Male    <=50K       2\n",
       "Canada          Male    <=50K       2\n",
       "Italy           Male    <=50K       2\n",
       "Cuba            Male    <=50K       2\n",
       "United-States   Female  >50K        2\n",
       "El-Salvador     Male    <=50K       2\n",
       "Mexico          Male    >50K        2\n",
       "Guatemala       Male    <=50K       2\n",
       "Puerto-Rico     Female  <=50K       1\n",
       "England         Male    <=50K       1\n",
       "Poland          Male    <=50K       1\n",
       "Portugal        Male    <=50K       1\n",
       "France          Male    <=50K       1\n",
       "Germany         Male    <=50K       1\n",
       "Cambodia        Male    >50K        1\n",
       "Japan           Male    <=50K       1\n",
       "Ireland         Male    <=50K       1\n",
       "Hong            Male    <=50K       1\n",
       "Yugoslavia      Male    >50K        1\n",
       "dtype: int64"
      ]
     },
     "execution_count": 3,
     "metadata": {},
     "output_type": "execute_result"
    }
   ],
   "source": [
    "adult[adult[\"occupation\"]=='Farming-fishing'][['native.country', 'sex', 'income']].value_counts()"
   ]
  },
  {
   "cell_type": "code",
   "execution_count": 4,
   "id": "b37bd7e1",
   "metadata": {},
   "outputs": [
    {
     "data": {
      "text/plain": [
       "sex     income  native.country\n",
       "Male    <=50K   United-States     5\n",
       "Female  <=50K   United-States     2\n",
       "dtype: int64"
      ]
     },
     "execution_count": 4,
     "metadata": {},
     "output_type": "execute_result"
    }
   ],
   "source": [
    "adult[adult['workclass']=='Never-worked'][['sex','income','native.country']].value_counts()"
   ]
  },
  {
   "cell_type": "code",
   "execution_count": 5,
   "id": "798a05f8",
   "metadata": {},
   "outputs": [
    {
     "data": {
      "text/plain": [
       "Prof-specialty       4140\n",
       "Craft-repair         4099\n",
       "Exec-managerial      4066\n",
       "Adm-clerical         3770\n",
       "Sales                3650\n",
       "Other-service        3295\n",
       "Machine-op-inspct    2002\n",
       "?                    1843\n",
       "Transport-moving     1597\n",
       "Handlers-cleaners    1370\n",
       "Farming-fishing       994\n",
       "Tech-support          928\n",
       "Protective-serv       649\n",
       "Priv-house-serv       149\n",
       "Armed-Forces            9\n",
       "Name: occupation, dtype: int64"
      ]
     },
     "execution_count": 5,
     "metadata": {},
     "output_type": "execute_result"
    }
   ],
   "source": [
    "adult['occupation'].value_counts()"
   ]
  },
  {
   "cell_type": "code",
   "execution_count": 6,
   "id": "2e6cc53b",
   "metadata": {},
   "outputs": [
    {
     "data": {
      "text/html": [
       "<div>\n",
       "<style scoped>\n",
       "    .dataframe tbody tr th:only-of-type {\n",
       "        vertical-align: middle;\n",
       "    }\n",
       "\n",
       "    .dataframe tbody tr th {\n",
       "        vertical-align: top;\n",
       "    }\n",
       "\n",
       "    .dataframe thead th {\n",
       "        text-align: right;\n",
       "    }\n",
       "</style>\n",
       "<table border=\"1\" class=\"dataframe\">\n",
       "  <thead>\n",
       "    <tr style=\"text-align: right;\">\n",
       "      <th></th>\n",
       "      <th>age</th>\n",
       "      <th>fnlwgt</th>\n",
       "      <th>education.num</th>\n",
       "      <th>capital.gain</th>\n",
       "      <th>capital.loss</th>\n",
       "      <th>hours.per.week</th>\n",
       "    </tr>\n",
       "    <tr>\n",
       "      <th>income</th>\n",
       "      <th></th>\n",
       "      <th></th>\n",
       "      <th></th>\n",
       "      <th></th>\n",
       "      <th></th>\n",
       "      <th></th>\n",
       "    </tr>\n",
       "  </thead>\n",
       "  <tbody>\n",
       "    <tr>\n",
       "      <th>&lt;=50K</th>\n",
       "      <td>36.783738</td>\n",
       "      <td>190340.86517</td>\n",
       "      <td>9.595065</td>\n",
       "      <td>148.752468</td>\n",
       "      <td>53.142921</td>\n",
       "      <td>38.840210</td>\n",
       "    </tr>\n",
       "    <tr>\n",
       "      <th>&gt;50K</th>\n",
       "      <td>44.249841</td>\n",
       "      <td>188005.00000</td>\n",
       "      <td>11.611657</td>\n",
       "      <td>4006.142456</td>\n",
       "      <td>195.001530</td>\n",
       "      <td>45.473026</td>\n",
       "    </tr>\n",
       "  </tbody>\n",
       "</table>\n",
       "</div>"
      ],
      "text/plain": [
       "              age        fnlwgt  education.num  capital.gain  capital.loss  \\\n",
       "income                                                                       \n",
       "<=50K   36.783738  190340.86517       9.595065    148.752468     53.142921   \n",
       ">50K    44.249841  188005.00000      11.611657   4006.142456    195.001530   \n",
       "\n",
       "        hours.per.week  \n",
       "income                  \n",
       "<=50K        38.840210  \n",
       ">50K         45.473026  "
      ]
     },
     "execution_count": 6,
     "metadata": {},
     "output_type": "execute_result"
    }
   ],
   "source": [
    "adult.groupby(by=['income']).mean()"
   ]
  },
  {
   "cell_type": "code",
   "execution_count": 7,
   "id": "99efbacb",
   "metadata": {},
   "outputs": [
    {
     "data": {
      "text/plain": [
       "sex     income\n",
       "Male    <=50K     0.383838\n",
       "Female  <=50K     0.308081\n",
       "Male    >50K      0.247475\n",
       "Female  >50K      0.060606\n",
       "dtype: float64"
      ]
     },
     "execution_count": 7,
     "metadata": {},
     "output_type": "execute_result"
    }
   ],
   "source": [
    "adult[adult['native.country']=='Philippines'][['sex','income']].value_counts(normalize=True)"
   ]
  },
  {
   "cell_type": "code",
   "execution_count": 8,
   "id": "f67eb729",
   "metadata": {},
   "outputs": [
    {
     "data": {
      "text/plain": [
       "sex     income\n",
       "Male    <=50K     15128\n",
       "Female  <=50K      9592\n",
       "Male    >50K       6662\n",
       "Female  >50K       1179\n",
       "dtype: int64"
      ]
     },
     "execution_count": 8,
     "metadata": {},
     "output_type": "execute_result"
    }
   ],
   "source": [
    "adult[['sex','income']].value_counts()"
   ]
  },
  {
   "cell_type": "code",
   "execution_count": 9,
   "id": "c2a1c349",
   "metadata": {},
   "outputs": [
    {
     "data": {
      "text/plain": [
       "income  relationship  \n",
       "<=50K   Not-in-family     7449\n",
       "        Husband           7275\n",
       ">50K    Husband           5918\n",
       "<=50K   Own-child         5001\n",
       "        Unmarried         3228\n",
       "        Other-relative     944\n",
       ">50K    Not-in-family      856\n",
       "<=50K   Wife               823\n",
       ">50K    Wife               745\n",
       "        Unmarried          218\n",
       "        Own-child           67\n",
       "        Other-relative      37\n",
       "dtype: int64"
      ]
     },
     "execution_count": 9,
     "metadata": {},
     "output_type": "execute_result"
    }
   ],
   "source": [
    "adult[['income','relationship']].value_counts()"
   ]
  },
  {
   "cell_type": "code",
   "execution_count": 10,
   "id": "7bd42e29",
   "metadata": {},
   "outputs": [
    {
     "data": {
      "text/plain": [
       "sex     race                income\n",
       "Male    White               <=50K     13085\n",
       "Female  White               <=50K      7614\n",
       "Male    White               >50K       6089\n",
       "Female  Black               <=50K      1465\n",
       "Male    Black               <=50K      1272\n",
       "Female  White               >50K       1028\n",
       "Male    Asian-Pac-Islander  <=50K       460\n",
       "Female  Asian-Pac-Islander  <=50K       303\n",
       "Male    Black               >50K        297\n",
       "        Asian-Pac-Islander  >50K        233\n",
       "        Amer-Indian-Eskimo  <=50K       168\n",
       "        Other               <=50K       143\n",
       "Female  Amer-Indian-Eskimo  <=50K       107\n",
       "        Other               <=50K       103\n",
       "        Black               >50K         90\n",
       "        Asian-Pac-Islander  >50K         43\n",
       "Male    Amer-Indian-Eskimo  >50K         24\n",
       "        Other               >50K         19\n",
       "Female  Amer-Indian-Eskimo  >50K         12\n",
       "        Other               >50K          6\n",
       "dtype: int64"
      ]
     },
     "execution_count": 10,
     "metadata": {},
     "output_type": "execute_result"
    }
   ],
   "source": [
    "adult[['sex','race','income']].value_counts()"
   ]
  }
 ],
 "metadata": {
  "kernelspec": {
   "display_name": "Python 3 (ipykernel)",
   "language": "python",
   "name": "python3"
  },
  "language_info": {
   "codemirror_mode": {
    "name": "ipython",
    "version": 3
   },
   "file_extension": ".py",
   "mimetype": "text/x-python",
   "name": "python",
   "nbconvert_exporter": "python",
   "pygments_lexer": "ipython3",
   "version": "3.9.7"
  }
 },
 "nbformat": 4,
 "nbformat_minor": 5
}
