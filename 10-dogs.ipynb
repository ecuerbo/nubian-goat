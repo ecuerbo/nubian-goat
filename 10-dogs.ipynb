{
 "cells": [
  {
   "cell_type": "code",
   "execution_count": 15,
   "id": "bba054e1",
   "metadata": {},
   "outputs": [
    {
     "name": "stdout",
     "output_type": "stream",
     "text": [
      "<class 'pandas.core.frame.DataFrame'>\n",
      "RangeIndex: 2937 entries, 0 to 2936\n",
      "Data columns (total 19 columns):\n",
      " #   Column             Non-Null Count  Dtype  \n",
      "---  ------             --------------  -----  \n",
      " 0   ID                 2937 non-null   int64  \n",
      " 1   name               2845 non-null   object \n",
      " 2   age                2937 non-null   float64\n",
      " 3   sex                2937 non-null   object \n",
      " 4   breed              2937 non-null   object \n",
      " 5   date_found         2937 non-null   object \n",
      " 6   adoptable_from     2937 non-null   object \n",
      " 7   posted             2937 non-null   object \n",
      " 8   color              2937 non-null   object \n",
      " 9   coat               2937 non-null   object \n",
      " 10  size               2937 non-null   object \n",
      " 11  neutered           1852 non-null   object \n",
      " 12  housebroken        460 non-null    object \n",
      " 13  likes_people       1999 non-null   object \n",
      " 14  likes_children     1219 non-null   object \n",
      " 15  get_along_males    1633 non-null   object \n",
      " 16  get_along_females  1673 non-null   object \n",
      " 17  get_along_cats     431 non-null    object \n",
      " 18  keep_in            1916 non-null   object \n",
      "dtypes: float64(1), int64(1), object(17)\n",
      "memory usage: 436.1+ KB\n"
     ]
    }
   ],
   "source": [
    "import pandas as pd\n",
    "#adoptable dogs dataset\n",
    "#https://www.kaggle.com/datasets/jmolitoris/adoptable-dogs/data\n",
    "dogs = pd.read_csv('/Users/ecuerbo/Desktop/data/dogs.csv')\n",
    "dogs.info()"
   ]
  },
  {
   "cell_type": "code",
   "execution_count": 16,
   "id": "6df8e074",
   "metadata": {},
   "outputs": [
    {
     "data": {
      "text/plain": [
       "short         1972\n",
       "medium         565\n",
       "wirehaired     220\n",
       "long           180\n",
       "Name: coat, dtype: int64"
      ]
     },
     "execution_count": 16,
     "metadata": {},
     "output_type": "execute_result"
    }
   ],
   "source": [
    "dogs[\"coat\"] = dogs[\"coat\"].astype(\"category\")\n",
    "dogs[\"coat\"].value_counts(dropna=False)"
   ]
  },
  {
   "cell_type": "code",
   "execution_count": 17,
   "id": "16a089e0",
   "metadata": {},
   "outputs": [
    {
     "data": {
      "text/plain": [
       "short     1972\n",
       "medium     565\n",
       "NaN        220\n",
       "long       180\n",
       "Name: coat, dtype: int64"
      ]
     },
     "execution_count": 17,
     "metadata": {},
     "output_type": "execute_result"
    }
   ],
   "source": [
    "#Series.cat.method_name\n",
    "dogs[\"coat\"] = dogs[\"coat\"].cat.set_categories(\n",
    "    new_categories=[\"short\",\"medium\",\"long\"])\n",
    "dogs[\"coat\"].value_counts(dropna=False)"
   ]
  },
  {
   "cell_type": "code",
   "execution_count": 18,
   "id": "7b257e6b",
   "metadata": {},
   "outputs": [
    {
     "data": {
      "text/plain": [
       "0    short\n",
       "1    short\n",
       "2    short\n",
       "Name: coat, dtype: category\n",
       "Categories (3, object): ['short' < 'medium' < 'long']"
      ]
     },
     "execution_count": 18,
     "metadata": {},
     "output_type": "execute_result"
    }
   ],
   "source": [
    "dogs[\"coat\"] = dogs[\"coat\"].cat.set_categories(\n",
    "    new_categories=[\"short\",\"medium\",\"long\"],\n",
    "    ordered=True)\n",
    "dogs[\"coat\"].head(3)"
   ]
  },
  {
   "cell_type": "code",
   "execution_count": 19,
   "id": "e6b4d74c",
   "metadata": {},
   "outputs": [
    {
     "data": {
      "text/plain": [
       "yes    1991\n",
       "NaN     938\n",
       "no        8\n",
       "Name: likes_people, dtype: int64"
      ]
     },
     "execution_count": 19,
     "metadata": {},
     "output_type": "execute_result"
    }
   ],
   "source": [
    "#missing categories\n",
    "dogs[\"likes_people\"].value_counts(dropna=False)"
   ]
  },
  {
   "cell_type": "code",
   "execution_count": 20,
   "id": "86e50fa3",
   "metadata": {},
   "outputs": [
    {
     "data": {
      "text/plain": [
       "Index(['no', 'yes', 'did not check', 'could not tell'], dtype='object')"
      ]
     },
     "execution_count": 20,
     "metadata": {},
     "output_type": "execute_result"
    }
   ],
   "source": [
    "#adding categories\n",
    "dogs[\"likes_people\"] = dogs[\"likes_people\"].astype(\"category\")\n",
    "dogs[\"likes_people\"] = dogs[\"likes_people\"].cat.add_categories(\n",
    "    new_categories =[\"did not check\",\"could not tell\"])\n",
    "dogs[\"likes_people\"].cat.categories"
   ]
  },
  {
   "cell_type": "code",
   "execution_count": 21,
   "id": "7dc931b3",
   "metadata": {},
   "outputs": [
    {
     "data": {
      "text/plain": [
       "yes               1991\n",
       "NaN                938\n",
       "no                   8\n",
       "did not check        0\n",
       "could not tell       0\n",
       "Name: likes_people, dtype: int64"
      ]
     },
     "execution_count": 21,
     "metadata": {},
     "output_type": "execute_result"
    }
   ],
   "source": [
    "dogs[\"likes_people\"].value_counts(dropna=False)"
   ]
  },
  {
   "cell_type": "code",
   "execution_count": 22,
   "id": "394f4d3b",
   "metadata": {},
   "outputs": [
    {
     "data": {
      "text/plain": [
       "Index(['long', 'medium', 'short', 'wirehaired'], dtype='object')"
      ]
     },
     "execution_count": 22,
     "metadata": {},
     "output_type": "execute_result"
    }
   ],
   "source": [
    "#remove the wirehaired\n",
    "dogs = pd.read_csv('/Users/ecuerbo/Desktop/data/dogs.csv')\n",
    "dogs[\"coat\"] = dogs[\"coat\"].astype(\"category\")\n",
    "#dogs[\"coat\"] = dogs[\"coat\"].cat.remove_categories(removals=[\"wirehaired\"])\n",
    "dogs[\"coat\"].cat.categories"
   ]
  },
  {
   "cell_type": "code",
   "execution_count": 23,
   "id": "5761fab5",
   "metadata": {},
   "outputs": [
    {
     "data": {
      "text/plain": [
       "short         1972\n",
       "medium         565\n",
       "wirehaired     220\n",
       "long           180\n",
       "Name: coat, dtype: int64"
      ]
     },
     "execution_count": 23,
     "metadata": {},
     "output_type": "execute_result"
    }
   ],
   "source": [
    "dogs[\"coat\"].value_counts(dropna=0)"
   ]
  },
  {
   "cell_type": "code",
   "execution_count": 24,
   "id": "1e9f5477",
   "metadata": {},
   "outputs": [
    {
     "name": "stdout",
     "output_type": "stream",
     "text": [
      "both flat and garden    1224\n",
      "NaN                     1021\n",
      "garden                   510\n",
      "flat                     182\n",
      "Name: keep_in, dtype: int64\n",
      "both flat and garden    1224\n",
      "NaN                     1021\n",
      "garden                   510\n",
      "flat                     182\n",
      "Name: keep_in, dtype: int64\n"
     ]
    }
   ],
   "source": [
    "# Check frequency counts while also printing the NaN count\n",
    "print(dogs[\"keep_in\"].value_counts(dropna=False))\n",
    "\n",
    "# Switch to a categorical variable\n",
    "dogs[\"keep_in\"] = dogs[\"keep_in\"].astype(\"category\")\n",
    "\n",
    "# Add new categories\n",
    "new_categories = [\"Unknown History\", \"Open Yard (Countryside)\"]\n",
    "#dogs[\"keep_in\"] = dogs[\"keep_in\"].cat.add_categories(new_categories)\n",
    "\n",
    "# Check frequency counts one more time\n",
    "print(dogs[\"keep_in\"].value_counts(dropna=False))"
   ]
  },
  {
   "cell_type": "code",
   "execution_count": 25,
   "id": "388f4d65",
   "metadata": {},
   "outputs": [
    {
     "name": "stdout",
     "output_type": "stream",
     "text": [
      "Index(['no', 'yes'], dtype='object')\n",
      "yes    1172\n",
      "no       47\n",
      "Name: likes_children, dtype: int64\n"
     ]
    }
   ],
   "source": [
    "dogs[\"likes_children\"]=dogs[\"likes_children\"].astype('category')\n",
    "# Set \"maybe\" to be \"no\"\n",
    "dogs.loc[dogs[\"likes_children\"] == \"maybe\", \"likes_children\"] = \"no\"\n",
    "\n",
    "# Print out categories\n",
    "print(dogs[\"likes_children\"].cat.categories)\n",
    "\n",
    "# Print the frequency table\n",
    "print(dogs[\"likes_children\"].value_counts())\n",
    "\n",
    "# Remove the `\"maybe\" category\n",
    "#dogs[\"likes_children\"] = dogs[\"likes_children\"].cat.remove_categories([\"maybe\"])\n",
    "#print(dogs[\"likes_children\"].value_counts())\n",
    "\n",
    "# Print the categories one more time\n",
    "#print(dogs[\"likes_children\"].cat.categories)"
   ]
  },
  {
   "cell_type": "code",
   "execution_count": 26,
   "id": "e9e7d742",
   "metadata": {},
   "outputs": [
    {
     "data": {
      "text/html": [
       "<div>\n",
       "<style scoped>\n",
       "    .dataframe tbody tr th:only-of-type {\n",
       "        vertical-align: middle;\n",
       "    }\n",
       "\n",
       "    .dataframe tbody tr th {\n",
       "        vertical-align: top;\n",
       "    }\n",
       "\n",
       "    .dataframe thead th {\n",
       "        text-align: right;\n",
       "    }\n",
       "</style>\n",
       "<table border=\"1\" class=\"dataframe\">\n",
       "  <thead>\n",
       "    <tr style=\"text-align: right;\">\n",
       "      <th></th>\n",
       "      <th></th>\n",
       "      <th>neutered</th>\n",
       "    </tr>\n",
       "    <tr>\n",
       "      <th>coat</th>\n",
       "      <th>sex</th>\n",
       "      <th></th>\n",
       "    </tr>\n",
       "  </thead>\n",
       "  <tbody>\n",
       "    <tr>\n",
       "      <th rowspan=\"2\" valign=\"top\">long</th>\n",
       "      <th>female</th>\n",
       "      <td>40</td>\n",
       "    </tr>\n",
       "    <tr>\n",
       "      <th>male</th>\n",
       "      <td>77</td>\n",
       "    </tr>\n",
       "    <tr>\n",
       "      <th rowspan=\"2\" valign=\"top\">medium</th>\n",
       "      <th>female</th>\n",
       "      <td>123</td>\n",
       "    </tr>\n",
       "    <tr>\n",
       "      <th>male</th>\n",
       "      <td>221</td>\n",
       "    </tr>\n",
       "    <tr>\n",
       "      <th rowspan=\"2\" valign=\"top\">short</th>\n",
       "      <th>female</th>\n",
       "      <td>582</td>\n",
       "    </tr>\n",
       "    <tr>\n",
       "      <th>male</th>\n",
       "      <td>659</td>\n",
       "    </tr>\n",
       "    <tr>\n",
       "      <th rowspan=\"2\" valign=\"top\">wirehaired</th>\n",
       "      <th>female</th>\n",
       "      <td>46</td>\n",
       "    </tr>\n",
       "    <tr>\n",
       "      <th>male</th>\n",
       "      <td>104</td>\n",
       "    </tr>\n",
       "  </tbody>\n",
       "</table>\n",
       "</div>"
      ],
      "text/plain": [
       "                   neutered\n",
       "coat       sex             \n",
       "long       female        40\n",
       "           male          77\n",
       "medium     female       123\n",
       "           male         221\n",
       "short      female       582\n",
       "           male         659\n",
       "wirehaired female        46\n",
       "           male         104"
      ]
     },
     "execution_count": 26,
     "metadata": {},
     "output_type": "execute_result"
    }
   ],
   "source": [
    "dogs.groupby(by=[\"coat\",\"sex\"])[[\"neutered\"]].count()"
   ]
  },
  {
   "cell_type": "code",
   "execution_count": 27,
   "id": "5e66dc00",
   "metadata": {},
   "outputs": [
    {
     "data": {
      "text/plain": [
       "Unknown Mix                                 1524\n",
       "German Shepherd Dog Mix                      190\n",
       "Dachshund Mix                                147\n",
       "Labrador Retriever Mix                        83\n",
       "Staffordshire Terrier Mix                     62\n",
       "                                            ... \n",
       "English Cocker Spaniel, Vizsla Mix             1\n",
       "English Greyhound Mix                          1\n",
       "English Greyhound, Spanish Greyhound Mix       1\n",
       "Fox Terrier, German Shepherd Dog Mix           1\n",
       "Yorkshire Terrier                              1\n",
       "Name: breed, Length: 277, dtype: int64"
      ]
     },
     "execution_count": 27,
     "metadata": {},
     "output_type": "execute_result"
    }
   ],
   "source": [
    "dogs['breed'] = dogs['breed'].astype(\"category\")\n",
    "dogs[\"breed\"].value_counts()"
   ]
  },
  {
   "cell_type": "code",
   "execution_count": 28,
   "id": "5dfc685f",
   "metadata": {},
   "outputs": [
    {
     "data": {
      "text/plain": [
       "Unknown                                     1524\n",
       "German Shepherd Dog Mix                      190\n",
       "Dachshund Mix                                147\n",
       "Labrador Retriever Mix                        83\n",
       "Staffordshire Terrier Mix                     62\n",
       "                                            ... \n",
       "English Cocker Spaniel, Vizsla Mix             1\n",
       "English Greyhound Mix                          1\n",
       "English Greyhound, Spanish Greyhound Mix       1\n",
       "Fox Terrier, German Shepherd Dog Mix           1\n",
       "Yorkshire Terrier                              1\n",
       "Name: breed, Length: 277, dtype: int64"
      ]
     },
     "execution_count": 28,
     "metadata": {},
     "output_type": "execute_result"
    }
   ],
   "source": [
    "#rename categories\n",
    "my_changes = { \"Unknown Mix\": \"Unknown\"}\n",
    "dogs[\"breed\"] = dogs[\"breed\"].cat.rename_categories(my_changes)\n",
    "dogs[\"breed\"].value_counts()"
   ]
  },
  {
   "cell_type": "code",
   "execution_count": 29,
   "id": "65082e94",
   "metadata": {},
   "outputs": [
    {
     "data": {
      "text/plain": [
       "Index(['Female', 'Male'], dtype='object')"
      ]
     },
     "execution_count": 29,
     "metadata": {},
     "output_type": "execute_result"
    }
   ],
   "source": [
    "#rename categories with a function\n",
    "dogs['sex'] = dogs['sex'].astype('category')\n",
    "dogs['sex'] = dogs['sex'].cat.rename_categories(lambda c: c.title())\n",
    "dogs['sex'].cat.categories"
   ]
  },
  {
   "cell_type": "code",
   "execution_count": 30,
   "id": "adfeed11",
   "metadata": {},
   "outputs": [],
   "source": [
    "#collapsing categories setup\n",
    "update_colors = {\n",
    "    \"black and brown\" : \"black\",\n",
    "    \"black and tan\" : \"black\",\n",
    "    \"black and white\" : \"black\"\n",
    "}\n",
    "dogs[\"main_color\"] = dogs[\"color\"].replace(update_colors)"
   ]
  },
  {
   "cell_type": "code",
   "execution_count": 31,
   "id": "1a39e2e2",
   "metadata": {},
   "outputs": [
    {
     "data": {
      "text/plain": [
       "Index(['apricot', 'black', 'brown', 'brown and white', 'dotted', 'golden',\n",
       "       'gray', 'gray and black', 'gray and white', 'red', 'red and white',\n",
       "       'sable', 'saddle back', 'spotty', 'striped', 'tricolor', 'white',\n",
       "       'wild boar', 'yellow', 'yellow-brown'],\n",
       "      dtype='object')"
      ]
     },
     "execution_count": 31,
     "metadata": {},
     "output_type": "execute_result"
    }
   ],
   "source": [
    "dogs[\"main_color\"] = dogs[\"main_color\"].astype(\"category\")\n",
    "dogs[\"main_color\"].cat.categories"
   ]
  },
  {
   "cell_type": "code",
   "execution_count": 32,
   "id": "98baf6f6",
   "metadata": {},
   "outputs": [],
   "source": [
    "#reorder categories\n",
    "dogs['coat'] = dogs['coat'].cat.reorder_categories(\n",
    "    new_categories = ['short', 'medium', 'wirehaired','long'],\n",
    "    ordered = True\n",
    ")"
   ]
  },
  {
   "cell_type": "code",
   "execution_count": 33,
   "id": "c57630c7",
   "metadata": {},
   "outputs": [
    {
     "data": {
      "text/plain": [
       "coat\n",
       "short         8.4\n",
       "medium        9.0\n",
       "wirehaired    8.4\n",
       "long          9.6\n",
       "Name: age, dtype: float64"
      ]
     },
     "execution_count": 33,
     "metadata": {},
     "output_type": "execute_result"
    }
   ],
   "source": [
    "dogs.groupby(by=['coat'])['age'].mean().round(1)"
   ]
  },
  {
   "cell_type": "code",
   "execution_count": 36,
   "id": "8fb27bf4",
   "metadata": {},
   "outputs": [],
   "source": [
    "#removing whitespaces\n",
    "dogs[\"get_along_cats\"] = dogs[\"get_along_cats\"].str.strip()\n",
    "#captalization\n",
    "#use .title(),.upper(),.lower()\n",
    "#replace mispespelled words\n",
    "replace_map = {\"Noo\": \"No\"}\n",
    "dogs[\"get_along_cats\"].replace(replace_map, inplace=True)"
   ]
  },
  {
   "cell_type": "code",
   "execution_count": 40,
   "id": "71dddda3",
   "metadata": {},
   "outputs": [
    {
     "data": {
      "text/plain": [
       "NaN    2506\n",
       "yes     275\n",
       "no      156\n",
       "Name: get_along_cats, dtype: int64"
      ]
     },
     "execution_count": 40,
     "metadata": {},
     "output_type": "execute_result"
    }
   ],
   "source": [
    "dogs[\"get_along_cats\"].value_counts(dropna=False)"
   ]
  },
  {
   "cell_type": "code",
   "execution_count": 42,
   "id": "799cd82c",
   "metadata": {},
   "outputs": [
    {
     "data": {
      "text/plain": [
       "False    2653\n",
       "True      284\n",
       "Name: breed, dtype: int64"
      ]
     },
     "execution_count": 42,
     "metadata": {},
     "output_type": "execute_result"
    }
   ],
   "source": [
    "#searching for a string\n",
    "dogs[\"breed\"].str.contains('Shepherd', regex=False).value_counts()"
   ]
  },
  {
   "cell_type": "code",
   "execution_count": 47,
   "id": "0b74cbaf",
   "metadata": {},
   "outputs": [
    {
     "data": {
      "text/plain": [
       "Series([], Name: size, dtype: int64)"
      ]
     },
     "execution_count": 47,
     "metadata": {},
     "output_type": "execute_result"
    }
   ],
   "source": [
    "#accessing data with loc\n",
    "dogs[\"get_along_cats\"] = dogs[\"get_along_cats\"].astype(\"category\")\n",
    "dogs.loc[dogs[\"get_along_cats\"] == \"Yes\", \"size\"].value_counts(sort=False)"
   ]
  },
  {
   "cell_type": "code",
   "execution_count": 48,
   "id": "6abecc7f",
   "metadata": {},
   "outputs": [
    {
     "name": "stdout",
     "output_type": "stream",
     "text": [
      "<class 'pandas.core.frame.DataFrame'>\n",
      "RangeIndex: 504 entries, 0 to 503\n",
      "Data columns (total 20 columns):\n",
      " #   Column             Non-Null Count  Dtype \n",
      "---  ------             --------------  ----- \n",
      " 0   User country       504 non-null    object\n",
      " 1   Nr. reviews        504 non-null    int64 \n",
      " 2   Nr. hotel reviews  504 non-null    int64 \n",
      " 3   Helpful votes      504 non-null    int64 \n",
      " 4   Score              504 non-null    int64 \n",
      " 5   Period of stay     504 non-null    object\n",
      " 6   Traveler type      504 non-null    object\n",
      " 7   Pool               504 non-null    object\n",
      " 8   Gym                504 non-null    object\n",
      " 9   Tennis court       504 non-null    object\n",
      " 10  Spa                504 non-null    object\n",
      " 11  Casino             504 non-null    object\n",
      " 12  Free internet      504 non-null    object\n",
      " 13  Hotel name         504 non-null    object\n",
      " 14  Hotel stars        504 non-null    int64 \n",
      " 15  Nr. rooms          504 non-null    int64 \n",
      " 16  User continent     504 non-null    object\n",
      " 17  Member years       504 non-null    int64 \n",
      " 18  Review month       504 non-null    object\n",
      " 19  Review weekday     504 non-null    object\n",
      "dtypes: int64(7), object(13)\n",
      "memory usage: 78.9+ KB\n"
     ]
    }
   ],
   "source": [
    "url =  \"https://assets.datacamp.com/production/repositories/5809/datasets/7e62911f924c0942b94af5858eff92d81550c77f/lasvegas_tripadvisor.csv\"\n",
    "reviews = pd.read_csv(url)\n",
    "reviews.info()"
   ]
  },
  {
   "cell_type": "code",
   "execution_count": 49,
   "id": "0c2db68f",
   "metadata": {},
   "outputs": [
    {
     "data": {
      "text/plain": [
       "5    227\n",
       "4    164\n",
       "3     72\n",
       "2     30\n",
       "1     11\n",
       "Name: Score, dtype: int64"
      ]
     },
     "execution_count": 49,
     "metadata": {},
     "output_type": "execute_result"
    }
   ],
   "source": [
    "import seaborn as sns\n",
    "import matplotlib.pyplot as plt\n",
    "reviews[\"Score\"].value_counts()"
   ]
  },
  {
   "cell_type": "code",
   "execution_count": 51,
   "id": "c33cea42",
   "metadata": {},
   "outputs": [
    {
     "data": {
      "image/png": "[encoded data removed]",
      "text/plain": [
       "<Figure size 360x360 with 1 Axes>"
      ]
     },
     "metadata": {},
     "output_type": "display_data"
    }
   ],
   "source": [
    "#setting font size and plot background\n",
    "sns.set(font_scale=1.4)\n",
    "sns.set_style(\"whitegrid\")\n",
    "\n",
    "sns.catplot(\n",
    "    x=\"Pool\",\n",
    "    y=\"Score\",\n",
    "    data=reviews,\n",
    "    kind=\"box\"\n",
    ");"
   ]
  },
  {
   "cell_type": "code",
   "execution_count": null,
   "id": "975ecb7d",
   "metadata": {},
   "outputs": [],
   "source": []
  }
 ],
 "metadata": {
  "kernelspec": {
   "display_name": "Python 3 (ipykernel)",
   "language": "python",
   "name": "python3"
  },
  "language_info": {
   "codemirror_mode": {
    "name": "ipython",
    "version": 3
   },
   "file_extension": ".py",
   "mimetype": "text/x-python",
   "name": "python",
   "nbconvert_exporter": "python",
   "pygments_lexer": "ipython3",
   "version": "3.9.7"
  }
 },
 "nbformat": 4,
 "nbformat_minor": 5
}
