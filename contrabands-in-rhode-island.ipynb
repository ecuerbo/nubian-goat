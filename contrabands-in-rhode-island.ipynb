{
 "cells": [
  {
   "cell_type": "markdown",
   "id": "d4b8860c",
   "metadata": {},
   "source": [
    "## Contrabands in Rhode Island Police Activity\n",
    "### This is an analysis of THE STANFORD OPEN POLICING PROJECT Data for the State of Rhode Island where the contraband_found column is not null.\n"
   ]
  },
  {
   "cell_type": "code",
   "execution_count": 9,
   "id": "b228143f",
   "metadata": {},
   "outputs": [],
   "source": [
    "#import needed packages\n",
    "import pandas as pd\n",
    "import matplotlib.pyplot as plt\n",
    "import seaborn as sns\n",
    "import missingno as msno"
   ]
  },
  {
   "cell_type": "code",
   "execution_count": 17,
   "id": "f31e50c1",
   "metadata": {},
   "outputs": [],
   "source": [
    "#open ri file\n",
    "ri = pd.read_csv('/Users/ecuerbo/python/pyprac/data/ri.csv')\n",
    "\n",
    "#subset files where contraband_found is not null\n",
    "df = ri.loc[ri.contraband_found.isna()==False]"
   ]
  },
  {
   "cell_type": "code",
   "execution_count": 18,
   "id": "5490f2c5",
   "metadata": {},
   "outputs": [
    {
     "data": {
      "text/plain": [
       "Index(['raw_row_number', 'date', 'time', 'zone', 'subject_race', 'subject_sex',\n",
       "       'department_id', 'type', 'arrest_made', 'citation_issued',\n",
       "       'warning_issued', 'outcome', 'contraband_found', 'contraband_drugs',\n",
       "       'contraband_weapons', 'contraband_alcohol', 'contraband_other',\n",
       "       'frisk_performed', 'search_conducted', 'search_basis',\n",
       "       'reason_for_search', 'reason_for_stop', 'vehicle_make', 'vehicle_model',\n",
       "       'raw_BasisForStop', 'raw_OperatorRace', 'raw_OperatorSex',\n",
       "       'raw_ResultOfStop', 'raw_SearchResultOne', 'raw_SearchResultTwo',\n",
       "       'raw_SearchResultThree'],\n",
       "      dtype='object')"
      ]
     },
     "execution_count": 18,
     "metadata": {},
     "output_type": "execute_result"
    }
   ],
   "source": [
    "#check contra columns\n",
    "df.columns"
   ]
  },
  {
   "cell_type": "code",
   "execution_count": 19,
   "id": "11f244ac",
   "metadata": {},
   "outputs": [
    {
     "data": {
      "text/plain": [
       "raw_row_number               0\n",
       "date                         0\n",
       "time                         0\n",
       "zone                         0\n",
       "subject_race                 0\n",
       "subject_sex                  0\n",
       "department_id                0\n",
       "type                         0\n",
       "arrest_made                  0\n",
       "citation_issued              0\n",
       "warning_issued               0\n",
       "outcome                    431\n",
       "contraband_found             0\n",
       "contraband_drugs          1774\n",
       "contraband_weapons        5967\n",
       "contraband_alcohol       16545\n",
       "contraband_other             0\n",
       "frisk_performed              0\n",
       "search_conducted             0\n",
       "search_basis                 0\n",
       "reason_for_search            0\n",
       "reason_for_stop              0\n",
       "vehicle_make              5020\n",
       "vehicle_model             8571\n",
       "raw_BasisForStop             0\n",
       "raw_OperatorRace             0\n",
       "raw_OperatorSex              0\n",
       "raw_ResultOfStop             0\n",
       "raw_SearchResultOne          0\n",
       "raw_SearchResultTwo      16943\n",
       "raw_SearchResultThree    17594\n",
       "dtype: int64"
      ]
     },
     "execution_count": 19,
     "metadata": {},
     "output_type": "execute_result"
    }
   ],
   "source": [
    "#check null values\n",
    "df.isna().sum()"
   ]
  },
  {
   "cell_type": "code",
   "execution_count": 8,
   "id": "d921ee4d",
   "metadata": {},
   "outputs": [
    {
     "data": {
      "text/plain": [
       "raw_row_number            int64\n",
       "date                     object\n",
       "time                     object\n",
       "zone                     object\n",
       "subject_race             object\n",
       "subject_sex              object\n",
       "department_id            object\n",
       "type                     object\n",
       "arrest_made              object\n",
       "citation_issued          object\n",
       "warning_issued           object\n",
       "outcome                  object\n",
       "contraband_found         object\n",
       "contraband_drugs         object\n",
       "contraband_weapons       object\n",
       "contraband_alcohol       object\n",
       "contraband_other         object\n",
       "frisk_performed          object\n",
       "search_conducted           bool\n",
       "search_basis             object\n",
       "reason_for_search        object\n",
       "reason_for_stop          object\n",
       "vehicle_make             object\n",
       "vehicle_model            object\n",
       "raw_BasisForStop         object\n",
       "raw_OperatorRace         object\n",
       "raw_OperatorSex          object\n",
       "raw_ResultOfStop         object\n",
       "raw_SearchResultOne      object\n",
       "raw_SearchResultTwo      object\n",
       "raw_SearchResultThree    object\n",
       "dtype: object"
      ]
     },
     "execution_count": 8,
     "metadata": {},
     "output_type": "execute_result"
    }
   ],
   "source": [
    "#check datatypes\n",
    "contra.dtypes"
   ]
  },
  {
   "cell_type": "code",
   "execution_count": 20,
   "id": "f12c89fb",
   "metadata": {},
   "outputs": [
    {
     "data": {
      "text/plain": [
       "<AxesSubplot:>"
      ]
     },
     "execution_count": 20,
     "metadata": {},
     "output_type": "execute_result"
    },
    {
     "data": {
      "image/png": "[encoded data removed]",
      "text/plain": [
       "<Figure size 1800x720 with 2 Axes>"
      ]
     },
     "metadata": {
      "needs_background": "light"
     },
     "output_type": "display_data"
    }
   ],
   "source": [
    "#view missing value matrix\n",
    "msno.matrix(df)"
   ]
  },
  {
   "cell_type": "code",
   "execution_count": 60,
   "id": "09b797ca",
   "metadata": {},
   "outputs": [
    {
     "name": "stdout",
     "output_type": "stream",
     "text": [
      "<class 'pandas.core.frame.DataFrame'>\n",
      "Int64Index: 17762 entries, 297 to 509631\n",
      "Data columns (total 21 columns):\n",
      " #   Column              Non-Null Count  Dtype \n",
      "---  ------              --------------  ----- \n",
      " 0   date                17762 non-null  object\n",
      " 1   time                17762 non-null  object\n",
      " 2   zone                17762 non-null  object\n",
      " 3   subject_race        17762 non-null  object\n",
      " 4   subject_sex         17762 non-null  object\n",
      " 5   department_id       17762 non-null  object\n",
      " 6   arrest_made         17762 non-null  object\n",
      " 7   citation_issued     17762 non-null  object\n",
      " 8   warning_issued      17762 non-null  object\n",
      " 9   outcome             17331 non-null  object\n",
      " 10  contraband_drugs    15988 non-null  object\n",
      " 11  contraband_weapons  11795 non-null  object\n",
      " 12  contraband_alcohol  1217 non-null   object\n",
      " 13  contraband_other    17762 non-null  object\n",
      " 14  search_conducted    17762 non-null  bool  \n",
      " 15  search_basis        17762 non-null  object\n",
      " 16  reason_for_stop     17762 non-null  object\n",
      " 17  raw_BasisForStop    17762 non-null  object\n",
      " 18  raw_OperatorRace    17762 non-null  object\n",
      " 19  raw_OperatorSex     17762 non-null  object\n",
      " 20  raw_ResultOfStop    17762 non-null  object\n",
      "dtypes: bool(1), object(20)\n",
      "memory usage: 3.4+ MB\n"
     ]
    }
   ],
   "source": [
    "#drop not needed columns\n",
    "to_drop = ['raw_row_number','contraband_found','frisk_performed','type','vehicle_make','vehicle_model','reason_for_search', 'raw_SearchResultOne', 'raw_SearchResultTwo', 'raw_SearchResultThree']\n",
    "cat = ['zone', 'subject_race', 'subject_sex', 'department_id','arrest_made', 'citation_issued', 'warning_issued', 'outcome',]\n",
    "boo = ['arrest_made','citation_issued']\n",
    "contra=df.drop(to_drop, axis=1)\n",
    "contra.info()"
   ]
  },
  {
   "cell_type": "code",
   "execution_count": 83,
   "id": "80045fbc",
   "metadata": {},
   "outputs": [],
   "source": [
    "#change to categorical values\n",
    "contra[cat] = contra[cat].astype('category')"
   ]
  },
  {
   "cell_type": "code",
   "execution_count": 84,
   "id": "d49502ea",
   "metadata": {},
   "outputs": [
    {
     "name": "stdout",
     "output_type": "stream",
     "text": [
      "X4    0.360883\n",
      "K3    0.276095\n",
      "K2    0.143903\n",
      "X3    0.127294\n",
      "K1    0.083324\n",
      "X1    0.008501\n",
      "Name: zone, dtype: float64\n",
      "white                     0.561198\n",
      "black                     0.242653\n",
      "hispanic                  0.179541\n",
      "asian/pacific islander    0.015764\n",
      "other                     0.000844\n",
      "Name: subject_race, dtype: float64\n",
      "male      0.861558\n",
      "female    0.138442\n",
      "Name: subject_sex, dtype: float64\n",
      "500    0.310438\n",
      "300    0.217093\n",
      "200    0.101621\n",
      "900    0.097230\n",
      "300    0.072965\n",
      "900    0.052528\n",
      "600    0.047686\n",
      "500    0.038228\n",
      "600    0.024828\n",
      "200    0.016777\n",
      "0      0.015539\n",
      "000    0.004729\n",
      "502    0.000169\n",
      "004    0.000056\n",
      "408    0.000056\n",
      "505    0.000056\n",
      "Name: department_id, dtype: float64\n",
      "False    0.651672\n",
      "True     0.348328\n",
      "Name: arrest_made, dtype: float64\n",
      "True     0.591882\n",
      "False    0.408118\n",
      "Name: citation_issued, dtype: float64\n",
      "False    0.964475\n",
      "True     0.035525\n",
      "Name: warning_issued, dtype: float64\n",
      "citation    0.591882\n",
      "arrest      0.348328\n",
      "warning     0.035525\n",
      "NaN         0.024265\n",
      "Name: outcome, dtype: float64\n",
      "False    0.631855\n",
      "True     0.268269\n",
      "NaN      0.099876\n",
      "Name: contraband_drugs, dtype: float64\n",
      "False    0.635964\n",
      "NaN      0.335942\n",
      "True     0.028094\n",
      "Name: contraband_weapons, dtype: float64\n",
      "NaN      0.931483\n",
      "True     0.063056\n",
      "False    0.005461\n",
      "Name: contraband_alcohol, dtype: float64\n",
      "False    0.944207\n",
      "True     0.055793\n",
      "Name: contraband_other, dtype: float64\n",
      "True    1.0\n",
      "Name: search_conducted, dtype: float64\n",
      "other             0.508670\n",
      "probable cause    0.437282\n",
      "plain view        0.054048\n",
      "Name: search_basis, dtype: float64\n",
      "Speeding                            0.311226\n",
      "Other Traffic Violation             0.279192\n",
      "Equipment/Inspection Violation      0.220302\n",
      "Registration Violation              0.100101\n",
      "Call for Service                    0.032879\n",
      "Seatbelt Violation                  0.026348\n",
      "Special Detail/Directed Patrol      0.008163\n",
      "APB                                 0.006418\n",
      "Suspicious Person                   0.005517\n",
      "Violation of City/Town Ordinance    0.004110\n",
      "Motorist Assist/Courtesy            0.003941\n",
      "Warrant                             0.001802\n",
      "Name: reason_for_stop, dtype: float64\n",
      "SP    0.311226\n",
      "OT    0.279192\n",
      "EQ    0.220302\n",
      "RV    0.100101\n",
      "CS    0.032879\n",
      "SB    0.026348\n",
      "SD    0.008163\n",
      "AP    0.006418\n",
      "SU    0.005517\n",
      "VO    0.004110\n",
      "MO    0.003941\n",
      "WA    0.001802\n",
      "Name: raw_BasisForStop, dtype: float64\n",
      "W    0.561198\n",
      "B    0.242653\n",
      "H    0.141538\n",
      "L    0.038002\n",
      "I    0.015764\n",
      "O    0.000450\n",
      "N    0.000394\n",
      "Name: raw_OperatorRace, dtype: float64\n",
      "M    0.861558\n",
      "F    0.138442\n",
      "Name: raw_OperatorSex, dtype: float64\n",
      "M    0.591882\n",
      "D    0.301655\n",
      "P    0.046673\n",
      "W    0.035525\n",
      "A    0.018297\n",
      "N    0.005968\n",
      "Name: raw_ResultOfStop, dtype: float64\n"
     ]
    }
   ],
   "source": [
    "#check value counts\n",
    "for x in contra.columns:\n",
    "    print(contra[x].value_counts(normalize=True, dropna=False))"
   ]
  },
  {
   "cell_type": "code",
   "execution_count": 81,
   "id": "ceb1bdb3",
   "metadata": {},
   "outputs": [],
   "source": [
    "#combine date and time into 1 column\n",
    "contra['dt'] = contra['date'] + \" \" + contra['time']\n",
    "contra = contra.set_index('dt')\n",
    "contra = contra.drop(['date', 'time'], axis=1)\n",
    "contra.index = pd.to_datetime(contra.index)"
   ]
  },
  {
   "cell_type": "code",
   "execution_count": 82,
   "id": "3afcf179",
   "metadata": {},
   "outputs": [
    {
     "data": {
      "text/html": [
       "<div>\n",
       "<style scoped>\n",
       "    .dataframe tbody tr th:only-of-type {\n",
       "        vertical-align: middle;\n",
       "    }\n",
       "\n",
       "    .dataframe tbody tr th {\n",
       "        vertical-align: top;\n",
       "    }\n",
       "\n",
       "    .dataframe thead th {\n",
       "        text-align: right;\n",
       "    }\n",
       "</style>\n",
       "<table border=\"1\" class=\"dataframe\">\n",
       "  <thead>\n",
       "    <tr style=\"text-align: right;\">\n",
       "      <th></th>\n",
       "      <th>zone</th>\n",
       "      <th>subject_race</th>\n",
       "      <th>subject_sex</th>\n",
       "      <th>department_id</th>\n",
       "      <th>arrest_made</th>\n",
       "      <th>citation_issued</th>\n",
       "      <th>warning_issued</th>\n",
       "      <th>outcome</th>\n",
       "      <th>contraband_drugs</th>\n",
       "      <th>contraband_weapons</th>\n",
       "      <th>contraband_alcohol</th>\n",
       "      <th>contraband_other</th>\n",
       "      <th>search_conducted</th>\n",
       "      <th>search_basis</th>\n",
       "      <th>reason_for_stop</th>\n",
       "      <th>raw_BasisForStop</th>\n",
       "      <th>raw_OperatorRace</th>\n",
       "      <th>raw_OperatorSex</th>\n",
       "      <th>raw_ResultOfStop</th>\n",
       "    </tr>\n",
       "    <tr>\n",
       "      <th>dt</th>\n",
       "      <th></th>\n",
       "      <th></th>\n",
       "      <th></th>\n",
       "      <th></th>\n",
       "      <th></th>\n",
       "      <th></th>\n",
       "      <th></th>\n",
       "      <th></th>\n",
       "      <th></th>\n",
       "      <th></th>\n",
       "      <th></th>\n",
       "      <th></th>\n",
       "      <th></th>\n",
       "      <th></th>\n",
       "      <th></th>\n",
       "      <th></th>\n",
       "      <th></th>\n",
       "      <th></th>\n",
       "      <th></th>\n",
       "    </tr>\n",
       "  </thead>\n",
       "  <tbody>\n",
       "    <tr>\n",
       "      <th>2005-12-06 16:29:00</th>\n",
       "      <td>K2</td>\n",
       "      <td>black</td>\n",
       "      <td>male</td>\n",
       "      <td>900</td>\n",
       "      <td>False</td>\n",
       "      <td>True</td>\n",
       "      <td>False</td>\n",
       "      <td>citation</td>\n",
       "      <td>False</td>\n",
       "      <td>False</td>\n",
       "      <td>NaN</td>\n",
       "      <td>False</td>\n",
       "      <td>True</td>\n",
       "      <td>other</td>\n",
       "      <td>Registration Violation</td>\n",
       "      <td>RV</td>\n",
       "      <td>B</td>\n",
       "      <td>M</td>\n",
       "      <td>M</td>\n",
       "    </tr>\n",
       "    <tr>\n",
       "      <th>2005-12-01 20:00:00</th>\n",
       "      <td>K3</td>\n",
       "      <td>black</td>\n",
       "      <td>male</td>\n",
       "      <td>300</td>\n",
       "      <td>False</td>\n",
       "      <td>True</td>\n",
       "      <td>False</td>\n",
       "      <td>citation</td>\n",
       "      <td>False</td>\n",
       "      <td>False</td>\n",
       "      <td>NaN</td>\n",
       "      <td>False</td>\n",
       "      <td>True</td>\n",
       "      <td>probable cause</td>\n",
       "      <td>Other Traffic Violation</td>\n",
       "      <td>OT</td>\n",
       "      <td>B</td>\n",
       "      <td>M</td>\n",
       "      <td>M</td>\n",
       "    </tr>\n",
       "    <tr>\n",
       "      <th>2005-12-01 20:25:00</th>\n",
       "      <td>K3</td>\n",
       "      <td>black</td>\n",
       "      <td>male</td>\n",
       "      <td>300</td>\n",
       "      <td>False</td>\n",
       "      <td>True</td>\n",
       "      <td>False</td>\n",
       "      <td>citation</td>\n",
       "      <td>False</td>\n",
       "      <td>False</td>\n",
       "      <td>NaN</td>\n",
       "      <td>False</td>\n",
       "      <td>True</td>\n",
       "      <td>other</td>\n",
       "      <td>Registration Violation</td>\n",
       "      <td>RV</td>\n",
       "      <td>B</td>\n",
       "      <td>M</td>\n",
       "      <td>M</td>\n",
       "    </tr>\n",
       "    <tr>\n",
       "      <th>2005-12-01 21:05:00</th>\n",
       "      <td>K3</td>\n",
       "      <td>black</td>\n",
       "      <td>female</td>\n",
       "      <td>300</td>\n",
       "      <td>False</td>\n",
       "      <td>True</td>\n",
       "      <td>False</td>\n",
       "      <td>citation</td>\n",
       "      <td>False</td>\n",
       "      <td>False</td>\n",
       "      <td>NaN</td>\n",
       "      <td>False</td>\n",
       "      <td>True</td>\n",
       "      <td>other</td>\n",
       "      <td>Registration Violation</td>\n",
       "      <td>RV</td>\n",
       "      <td>B</td>\n",
       "      <td>F</td>\n",
       "      <td>M</td>\n",
       "    </tr>\n",
       "    <tr>\n",
       "      <th>2005-12-07 02:38:00</th>\n",
       "      <td>K3</td>\n",
       "      <td>white</td>\n",
       "      <td>male</td>\n",
       "      <td>300</td>\n",
       "      <td>True</td>\n",
       "      <td>False</td>\n",
       "      <td>False</td>\n",
       "      <td>arrest</td>\n",
       "      <td>False</td>\n",
       "      <td>False</td>\n",
       "      <td>NaN</td>\n",
       "      <td>False</td>\n",
       "      <td>True</td>\n",
       "      <td>other</td>\n",
       "      <td>Speeding</td>\n",
       "      <td>SP</td>\n",
       "      <td>W</td>\n",
       "      <td>M</td>\n",
       "      <td>P</td>\n",
       "    </tr>\n",
       "  </tbody>\n",
       "</table>\n",
       "</div>"
      ],
      "text/plain": [
       "                    zone subject_race subject_sex department_id arrest_made  \\\n",
       "dt                                                                            \n",
       "2005-12-06 16:29:00   K2        black        male           900       False   \n",
       "2005-12-01 20:00:00   K3        black        male           300       False   \n",
       "2005-12-01 20:25:00   K3        black        male           300       False   \n",
       "2005-12-01 21:05:00   K3        black      female           300       False   \n",
       "2005-12-07 02:38:00   K3        white        male           300        True   \n",
       "\n",
       "                    citation_issued warning_issued   outcome contraband_drugs  \\\n",
       "dt                                                                              \n",
       "2005-12-06 16:29:00            True          False  citation            False   \n",
       "2005-12-01 20:00:00            True          False  citation            False   \n",
       "2005-12-01 20:25:00            True          False  citation            False   \n",
       "2005-12-01 21:05:00            True          False  citation            False   \n",
       "2005-12-07 02:38:00           False          False    arrest            False   \n",
       "\n",
       "                    contraband_weapons contraband_alcohol contraband_other  \\\n",
       "dt                                                                           \n",
       "2005-12-06 16:29:00              False                NaN            False   \n",
       "2005-12-01 20:00:00              False                NaN            False   \n",
       "2005-12-01 20:25:00              False                NaN            False   \n",
       "2005-12-01 21:05:00              False                NaN            False   \n",
       "2005-12-07 02:38:00              False                NaN            False   \n",
       "\n",
       "                     search_conducted    search_basis  \\\n",
       "dt                                                      \n",
       "2005-12-06 16:29:00              True           other   \n",
       "2005-12-01 20:00:00              True  probable cause   \n",
       "2005-12-01 20:25:00              True           other   \n",
       "2005-12-01 21:05:00              True           other   \n",
       "2005-12-07 02:38:00              True           other   \n",
       "\n",
       "                             reason_for_stop raw_BasisForStop  \\\n",
       "dt                                                              \n",
       "2005-12-06 16:29:00   Registration Violation               RV   \n",
       "2005-12-01 20:00:00  Other Traffic Violation               OT   \n",
       "2005-12-01 20:25:00   Registration Violation               RV   \n",
       "2005-12-01 21:05:00   Registration Violation               RV   \n",
       "2005-12-07 02:38:00                 Speeding               SP   \n",
       "\n",
       "                    raw_OperatorRace raw_OperatorSex raw_ResultOfStop  \n",
       "dt                                                                     \n",
       "2005-12-06 16:29:00                B               M                M  \n",
       "2005-12-01 20:00:00                B               M                M  \n",
       "2005-12-01 20:25:00                B               M                M  \n",
       "2005-12-01 21:05:00                B               F                M  \n",
       "2005-12-07 02:38:00                W               M                P  "
      ]
     },
     "execution_count": 82,
     "metadata": {},
     "output_type": "execute_result"
    }
   ],
   "source": [
    "contra.head()"
   ]
  },
  {
   "cell_type": "code",
   "execution_count": 86,
   "id": "6f0c3f89",
   "metadata": {},
   "outputs": [
    {
     "data": {
      "text/plain": [
       "Index(['zone', 'subject_race', 'subject_sex', 'department_id', 'arrest_made',\n",
       "       'citation_issued', 'warning_issued', 'outcome', 'contraband_drugs',\n",
       "       'contraband_weapons', 'contraband_alcohol', 'contraband_other',\n",
       "       'search_conducted', 'search_basis', 'reason_for_stop',\n",
       "       'raw_BasisForStop', 'raw_OperatorRace', 'raw_OperatorSex',\n",
       "       'raw_ResultOfStop'],\n",
       "      dtype='object')"
      ]
     },
     "execution_count": 86,
     "metadata": {},
     "output_type": "execute_result"
    }
   ],
   "source": [
    "contra.columns"
   ]
  },
  {
   "cell_type": "code",
   "execution_count": 93,
   "id": "18759f47",
   "metadata": {},
   "outputs": [],
   "source": [
    "cont = contra.loc[:,'contraband_drugs':'contraband_other']"
   ]
  },
  {
   "cell_type": "code",
   "execution_count": 94,
   "id": "7466340e",
   "metadata": {
    "scrolled": true
   },
   "outputs": [
    {
     "data": {
      "text/html": [
       "<div>\n",
       "<style scoped>\n",
       "    .dataframe tbody tr th:only-of-type {\n",
       "        vertical-align: middle;\n",
       "    }\n",
       "\n",
       "    .dataframe tbody tr th {\n",
       "        vertical-align: top;\n",
       "    }\n",
       "\n",
       "    .dataframe thead th {\n",
       "        text-align: right;\n",
       "    }\n",
       "</style>\n",
       "<table border=\"1\" class=\"dataframe\">\n",
       "  <thead>\n",
       "    <tr style=\"text-align: right;\">\n",
       "      <th></th>\n",
       "      <th>contraband_drugs</th>\n",
       "      <th>contraband_weapons</th>\n",
       "      <th>contraband_alcohol</th>\n",
       "      <th>contraband_other</th>\n",
       "    </tr>\n",
       "    <tr>\n",
       "      <th>dt</th>\n",
       "      <th></th>\n",
       "      <th></th>\n",
       "      <th></th>\n",
       "      <th></th>\n",
       "    </tr>\n",
       "  </thead>\n",
       "  <tbody>\n",
       "    <tr>\n",
       "      <th>2005-12-06 16:29:00</th>\n",
       "      <td>False</td>\n",
       "      <td>False</td>\n",
       "      <td>NaN</td>\n",
       "      <td>False</td>\n",
       "    </tr>\n",
       "    <tr>\n",
       "      <th>2005-12-01 20:00:00</th>\n",
       "      <td>False</td>\n",
       "      <td>False</td>\n",
       "      <td>NaN</td>\n",
       "      <td>False</td>\n",
       "    </tr>\n",
       "    <tr>\n",
       "      <th>2005-12-01 20:25:00</th>\n",
       "      <td>False</td>\n",
       "      <td>False</td>\n",
       "      <td>NaN</td>\n",
       "      <td>False</td>\n",
       "    </tr>\n",
       "    <tr>\n",
       "      <th>2005-12-01 21:05:00</th>\n",
       "      <td>False</td>\n",
       "      <td>False</td>\n",
       "      <td>NaN</td>\n",
       "      <td>False</td>\n",
       "    </tr>\n",
       "    <tr>\n",
       "      <th>2005-12-07 02:38:00</th>\n",
       "      <td>False</td>\n",
       "      <td>False</td>\n",
       "      <td>NaN</td>\n",
       "      <td>False</td>\n",
       "    </tr>\n",
       "  </tbody>\n",
       "</table>\n",
       "</div>"
      ],
      "text/plain": [
       "                    contraband_drugs contraband_weapons contraband_alcohol  \\\n",
       "dt                                                                           \n",
       "2005-12-06 16:29:00            False              False                NaN   \n",
       "2005-12-01 20:00:00            False              False                NaN   \n",
       "2005-12-01 20:25:00            False              False                NaN   \n",
       "2005-12-01 21:05:00            False              False                NaN   \n",
       "2005-12-07 02:38:00            False              False                NaN   \n",
       "\n",
       "                    contraband_other  \n",
       "dt                                    \n",
       "2005-12-06 16:29:00            False  \n",
       "2005-12-01 20:00:00            False  \n",
       "2005-12-01 20:25:00            False  \n",
       "2005-12-01 21:05:00            False  \n",
       "2005-12-07 02:38:00            False  "
      ]
     },
     "execution_count": 94,
     "metadata": {},
     "output_type": "execute_result"
    }
   ],
   "source": [
    "cont['contra_found']="
   ]
  },
  {
   "cell_type": "code",
   "execution_count": 99,
   "id": "4883439f",
   "metadata": {},
   "outputs": [
    {
     "data": {
      "text/plain": [
       "subject_sex                        \n",
       "female       white                     0.641724\n",
       "             black                     0.217161\n",
       "             hispanic                  0.131761\n",
       "             asian/pacific islander    0.008947\n",
       "             other                     0.000407\n",
       "male         white                     0.548259\n",
       "             black                     0.246749\n",
       "             hispanic                  0.187218\n",
       "             asian/pacific islander    0.016859\n",
       "             other                     0.000915\n",
       "Name: subject_race, dtype: float64"
      ]
     },
     "execution_count": 99,
     "metadata": {},
     "output_type": "execute_result"
    }
   ],
   "source": [
    "props = contra.groupby('subject_sex')['subject_race'].value_counts(normalize=True)\n",
    "props"
   ]
  },
  {
   "cell_type": "code",
   "execution_count": 102,
   "id": "428732ba",
   "metadata": {},
   "outputs": [
    {
     "name": "stdout",
     "output_type": "stream",
     "text": [
      "                 test    lambda        chi2  dof          pval    cramer  \\\n",
      "0             pearson  1.000000   85.975116  4.0  9.420427e-18  0.069573   \n",
      "1        cressie-read  0.666667   87.069042  4.0  5.519435e-18  0.070014   \n",
      "2      log-likelihood  0.000000   89.582937  4.0  1.614719e-18  0.071018   \n",
      "3       freeman-tukey -0.500000   91.787728  4.0  5.491161e-19  0.071886   \n",
      "4  mod-log-likelihood -1.000000   94.304557  4.0  1.601926e-19  0.072865   \n",
      "5              neyman -2.000000  100.447388  4.0  7.899465e-21  0.075201   \n",
      "\n",
      "   power  \n",
      "0    1.0  \n",
      "1    1.0  \n",
      "2    1.0  \n",
      "3    1.0  \n",
      "4    1.0  \n",
      "5    1.0  \n"
     ]
    },
    {
     "name": "stderr",
     "output_type": "stream",
     "text": [
      "/opt/anaconda3/lib/python3.9/site-packages/pingouin/contingency.py:150: UserWarning: Low count on observed frequencies.\n",
      "  warnings.warn(\"Low count on {} frequencies.\".format(name))\n",
      "/opt/anaconda3/lib/python3.9/site-packages/pingouin/contingency.py:150: UserWarning: Low count on expected frequencies.\n",
      "  warnings.warn(\"Low count on {} frequencies.\".format(name))\n"
     ]
    }
   ],
   "source": [
    "#test for signifcant difference in subject_sex and subject race\n",
    "import pingouin as pg\n",
    "expected, observed, stats = pg.chi2_independence(data=contra, x='subject_sex', y='subject_race')\n",
    "print(stats)"
   ]
  },
  {
   "cell_type": "code",
   "execution_count": 104,
   "id": "bbd4064d",
   "metadata": {},
   "outputs": [
    {
     "data": {
      "text/plain": [
       "<AxesSubplot:xlabel='subject_race'>"
      ]
     },
     "execution_count": 104,
     "metadata": {},
     "output_type": "execute_result"
    },
    {
     "data": {
      "image/png": "[encoded data removed]",
      "text/plain": [
       "<Figure size 432x288 with 1 Axes>"
      ]
     },
     "metadata": {
      "needs_background": "light"
     },
     "output_type": "display_data"
    }
   ],
   "source": [
    "#for alpha= 0.2, thee is a significant difference between subject race and gender.\n",
    "#swapping the variables\n",
    "props = contra.groupby('subject_race')['subject_sex'].value_counts(normalize=True)\n",
    "wide_props = props.unstack()\n",
    "wide_props.plot(kind=\"bar\", stacked=True)\n"
   ]
  },
  {
   "cell_type": "code",
   "execution_count": 105,
   "id": "2690dfab",
   "metadata": {},
   "outputs": [
    {
     "data": {
      "text/plain": [
       "<AxesSubplot:xlabel='subject_sex'>"
      ]
     },
     "execution_count": 105,
     "metadata": {},
     "output_type": "execute_result"
    },
    {
     "data": {
      "image/png": "[encoded data removed]",
      "text/plain": [
       "<Figure size 432x288 with 1 Axes>"
      ]
     },
     "metadata": {
      "needs_background": "light"
     },
     "output_type": "display_data"
    }
   ],
   "source": [
    "contra.groupby('subject_sex')['subject_race'].value_counts(normalize=True).unstack().plot(kind='bar', stacked=True)"
   ]
  },
  {
   "cell_type": "code",
   "execution_count": 106,
   "id": "8fd5611a",
   "metadata": {},
   "outputs": [
    {
     "name": "stdout",
     "output_type": "stream",
     "text": [
      "                 test    lambda        chi2  dof          pval    cramer  \\\n",
      "0             pearson  1.000000   85.975116  4.0  9.420427e-18  0.069573   \n",
      "1        cressie-read  0.666667   87.069042  4.0  5.519435e-18  0.070014   \n",
      "2      log-likelihood  0.000000   89.582937  4.0  1.614719e-18  0.071018   \n",
      "3       freeman-tukey -0.500000   91.787728  4.0  5.491161e-19  0.071886   \n",
      "4  mod-log-likelihood -1.000000   94.304557  4.0  1.601926e-19  0.072865   \n",
      "5              neyman -2.000000  100.447388  4.0  7.899465e-21  0.075201   \n",
      "\n",
      "   power  \n",
      "0    1.0  \n",
      "1    1.0  \n",
      "2    1.0  \n",
      "3    1.0  \n",
      "4    1.0  \n",
      "5    1.0  \n"
     ]
    },
    {
     "name": "stderr",
     "output_type": "stream",
     "text": [
      "/opt/anaconda3/lib/python3.9/site-packages/pingouin/contingency.py:150: UserWarning: Low count on observed frequencies.\n",
      "  warnings.warn(\"Low count on {} frequencies.\".format(name))\n",
      "/opt/anaconda3/lib/python3.9/site-packages/pingouin/contingency.py:150: UserWarning: Low count on expected frequencies.\n",
      "  warnings.warn(\"Low count on {} frequencies.\".format(name))\n"
     ]
    }
   ],
   "source": [
    "#swapping the variables,\n",
    "expected, observed, stats = pg.chi2_independence(data=contra, x='subject_race', y='subject_sex')\n",
    "print(stats)"
   ]
  },
  {
   "cell_type": "markdown",
   "id": "d0e741d8",
   "metadata": {},
   "source": [
    "## from this , we should\n",
    "#### ASK: Are the variables X and Y independent?\n",
    "#### NOT: is variable x independent from variable y?"
   ]
  },
  {
   "cell_type": "code",
   "execution_count": null,
   "id": "05cd4653",
   "metadata": {},
   "outputs": [],
   "source": [
    "\n"
   ]
  },
  {
   "cell_type": "code",
   "execution_count": null,
   "id": "8465b9aa",
   "metadata": {},
   "outputs": [],
   "source": []
  },
  {
   "cell_type": "code",
   "execution_count": null,
   "id": "a955d9f8",
   "metadata": {},
   "outputs": [],
   "source": []
  },
  {
   "cell_type": "code",
   "execution_count": null,
   "id": "6eca2c48",
   "metadata": {},
   "outputs": [],
   "source": []
  }
 ],
 "metadata": {
  "kernelspec": {
   "display_name": "Python 3 (ipykernel)",
   "language": "python",
   "name": "python3"
  },
  "language_info": {
   "codemirror_mode": {
    "name": "ipython",
    "version": 3
   },
   "file_extension": ".py",
   "mimetype": "text/x-python",
   "name": "python",
   "nbconvert_exporter": "python",
   "pygments_lexer": "ipython3",
   "version": "3.9.7"
  }
 },
 "nbformat": 4,
 "nbformat_minor": 5
}
