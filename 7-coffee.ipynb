{
 "cells": [
  {
   "cell_type": "code",
   "execution_count": 1,
   "id": "e7a8080e",
   "metadata": {},
   "outputs": [],
   "source": [
    "import pandas as pd\n",
    "import numpy as np\n",
    "import matplotlib.pyplot as plt\n",
    "import seaborn as sns\n",
    "df = pd.read_csv('/Users/ecuerbo/python/pyprac/data/coffee.csv')"
   ]
  },
  {
   "cell_type": "code",
   "execution_count": 3,
   "id": "3480bd49",
   "metadata": {},
   "outputs": [
    {
     "data": {
      "text/plain": [
       "Index(['Unnamed: 0', 'total_cup_points', 'species', 'owner',\n",
       "       'country_of_origin', 'farm_name', 'lot_number', 'mill', 'ico_number',\n",
       "       'company', 'altitude', 'region', 'producer', 'number_of_bags',\n",
       "       'bag_weight', 'in_country_partner', 'harvest_year', 'grading_date',\n",
       "       'owner_1', 'variety', 'processing_method', 'aroma', 'flavor',\n",
       "       'aftertaste', 'acidity', 'body', 'balance', 'uniformity', 'clean_cup',\n",
       "       'sweetness', 'cupper_points', 'moisture', 'category_one_defects',\n",
       "       'quakers', 'color', 'category_two_defects', 'expiration',\n",
       "       'certification_body', 'certification_address', 'certification_contact',\n",
       "       'unit_of_measurement', 'altitude_low_meters', 'altitude_high_meters',\n",
       "       'altitude_mean_meters'],\n",
       "      dtype='object')"
      ]
     },
     "execution_count": 3,
     "metadata": {},
     "output_type": "execute_result"
    }
   ],
   "source": [
    "df.columns"
   ]
  },
  {
   "cell_type": "code",
   "execution_count": 4,
   "id": "59899bc8",
   "metadata": {},
   "outputs": [],
   "source": [
    "df.drop('Unnamed: 0', axis=1, inplace=True)"
   ]
  },
  {
   "cell_type": "code",
   "execution_count": 6,
   "id": "ca6c07f8",
   "metadata": {},
   "outputs": [
    {
     "name": "stdout",
     "output_type": "stream",
     "text": [
      "<class 'pandas.core.frame.DataFrame'>\n",
      "RangeIndex: 1338 entries, 0 to 1337\n",
      "Data columns (total 43 columns):\n",
      " #   Column                 Non-Null Count  Dtype  \n",
      "---  ------                 --------------  -----  \n",
      " 0   total_cup_points       1338 non-null   float64\n",
      " 1   species                1338 non-null   object \n",
      " 2   owner                  1331 non-null   object \n",
      " 3   country_of_origin      1337 non-null   object \n",
      " 4   farm_name              979 non-null    object \n",
      " 5   lot_number             275 non-null    object \n",
      " 6   mill                   1020 non-null   object \n",
      " 7   ico_number             1181 non-null   object \n",
      " 8   company                1129 non-null   object \n",
      " 9   altitude               1112 non-null   object \n",
      " 10  region                 1279 non-null   object \n",
      " 11  producer               1106 non-null   object \n",
      " 12  number_of_bags         1338 non-null   float64\n",
      " 13  bag_weight             1338 non-null   object \n",
      " 14  in_country_partner     1338 non-null   object \n",
      " 15  harvest_year           1291 non-null   object \n",
      " 16  grading_date           1338 non-null   object \n",
      " 17  owner_1                1331 non-null   object \n",
      " 18  variety                1112 non-null   object \n",
      " 19  processing_method      1169 non-null   object \n",
      " 20  aroma                  1338 non-null   float64\n",
      " 21  flavor                 1338 non-null   float64\n",
      " 22  aftertaste             1338 non-null   float64\n",
      " 23  acidity                1338 non-null   float64\n",
      " 24  body                   1338 non-null   float64\n",
      " 25  balance                1338 non-null   float64\n",
      " 26  uniformity             1338 non-null   float64\n",
      " 27  clean_cup              1338 non-null   float64\n",
      " 28  sweetness              1338 non-null   float64\n",
      " 29  cupper_points          1338 non-null   float64\n",
      " 30  moisture               1338 non-null   float64\n",
      " 31  category_one_defects   1338 non-null   float64\n",
      " 32  quakers                1337 non-null   float64\n",
      " 33  color                  1120 non-null   object \n",
      " 34  category_two_defects   1338 non-null   float64\n",
      " 35  expiration             1338 non-null   object \n",
      " 36  certification_body     1338 non-null   object \n",
      " 37  certification_address  1338 non-null   object \n",
      " 38  certification_contact  1338 non-null   object \n",
      " 39  unit_of_measurement    1338 non-null   object \n",
      " 40  altitude_low_meters    1108 non-null   float64\n",
      " 41  altitude_high_meters   1108 non-null   float64\n",
      " 42  altitude_mean_meters   1108 non-null   float64\n",
      "dtypes: float64(19), object(24)\n",
      "memory usage: 449.6+ KB\n"
     ]
    }
   ],
   "source": [
    "df.info()"
   ]
  },
  {
   "cell_type": "code",
   "execution_count": 12,
   "id": "d47ad49e",
   "metadata": {},
   "outputs": [],
   "source": [
    "fl=[]\n",
    "obj=[]\n",
    "for x in df.columns:\n",
    "    if df[x].dtype == 'object':\n",
    "        obj.append(x)\n",
    "    else:\n",
    "        fl.append(x)"
   ]
  },
  {
   "cell_type": "code",
   "execution_count": null,
   "id": "6739cb6a",
   "metadata": {},
   "outputs": [],
   "source": []
  }
 ],
 "metadata": {
  "kernelspec": {
   "display_name": "Python 3 (ipykernel)",
   "language": "python",
   "name": "python3"
  },
  "language_info": {
   "codemirror_mode": {
    "name": "ipython",
    "version": 3
   },
   "file_extension": ".py",
   "mimetype": "text/x-python",
   "name": "python",
   "nbconvert_exporter": "python",
   "pygments_lexer": "ipython3",
   "version": "3.9.7"
  }
 },
 "nbformat": 4,
 "nbformat_minor": 5
}
