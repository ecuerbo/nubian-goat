{
 "cells": [
  {
   "cell_type": "markdown",
   "id": "1c65d487",
   "metadata": {},
   "source": [
    "# CHLOROPHORE COBALT CORPORATION(C3)\n",
    "## ORE SHIPMENT HISTORY"
   ]
  },
  {
   "cell_type": "code",
   "execution_count": 35,
   "id": "fc2caa69",
   "metadata": {},
   "outputs": [],
   "source": [
    "import pandas as pd\n",
    "import matplotlib.pyplot as plt"
   ]
  },
  {
   "cell_type": "code",
   "execution_count": 16,
   "id": "ac29fae9",
   "metadata": {},
   "outputs": [],
   "source": [
    "df = pd.read_excel(\"data/ship.xlsx\", parse_dates=True)\n",
    "df.columns = ['num', 'YEAR', 'SN', 'CONTNUM', 'VESSEL', 'Start_Loading',\n",
    "       'End_Loading', 'DAYS', 'LAB3', 'LP-cobalt', 'DP-cobalt', 'LP-silica', 'DP-silica',\n",
    "       'LP-alumina', 'DP-alumina', 'LP-moisture', 'DP-moisture', 'LP-TONNAGE', 'DP-TONNAGE']"
   ]
  },
  {
   "cell_type": "code",
   "execution_count": 44,
   "id": "994fc10f",
   "metadata": {},
   "outputs": [],
   "source": [
    "ship = df.drop('SN', axis=1).dropna(subset=['VESSEL']).set_index('num')\n",
    "ship.to_csv(\"data/c3.csv\")"
   ]
  },
  {
   "cell_type": "code",
   "execution_count": 28,
   "id": "f74dc91e",
   "metadata": {},
   "outputs": [
    {
     "data": {
      "text/plain": [
       "<AxesSubplot:>"
      ]
     },
     "execution_count": 28,
     "metadata": {},
     "output_type": "execute_result"
    },
    {
     "data": {
      "image/png": "[encoded data removed]",
      "text/plain": [
       "<Figure size 432x288 with 1 Axes>"
      ]
     },
     "metadata": {
      "needs_background": "light"
     },
     "output_type": "display_data"
    }
   ],
   "source": [
    "ship['YEAR'].hist(bins=30)"
   ]
  },
  {
   "cell_type": "code",
   "execution_count": 42,
   "id": "11e196fc",
   "metadata": {},
   "outputs": [
    {
     "data": {
      "text/plain": [
       "<AxesSubplot:>"
      ]
     },
     "execution_count": 42,
     "metadata": {},
     "output_type": "execute_result"
    },
    {
     "data": {
      "image/png": "[encoded data removed]",
      "text/plain": [
       "<Figure size 432x288 with 1 Axes>"
      ]
     },
     "metadata": {
      "needs_background": "light"
     },
     "output_type": "display_data"
    }
   ],
   "source": [
    "ship['DAYS'].drop(0).hist(bins=50, color='pink')"
   ]
  },
  {
   "cell_type": "code",
   "execution_count": 40,
   "id": "b7162752",
   "metadata": {},
   "outputs": [],
   "source": []
  },
  {
   "cell_type": "code",
   "execution_count": 43,
   "id": "497b15dc",
   "metadata": {},
   "outputs": [
    {
     "name": "stdout",
     "output_type": "stream",
     "text": [
      "<class 'pandas.core.frame.DataFrame'>\n",
      "Int64Index: 530 entries, 2 to 857\n",
      "Data columns (total 19 columns):\n",
      " #   Column         Non-Null Count  Dtype         \n",
      "---  ------         --------------  -----         \n",
      " 0   num            530 non-null    int64         \n",
      " 1   YEAR           530 non-null    int64         \n",
      " 2   CONTNUM        530 non-null    int64         \n",
      " 3   VESSEL         530 non-null    object        \n",
      " 4   Start_Loading  513 non-null    datetime64[ns]\n",
      " 5   End_Loading    513 non-null    datetime64[ns]\n",
      " 6   DAYS           530 non-null    int64         \n",
      " 7   LAB3           523 non-null    object        \n",
      " 8   LP-cobalt      530 non-null    float64       \n",
      " 9   DP-cobalt      530 non-null    float64       \n",
      " 10  LP-silica      530 non-null    float64       \n",
      " 11  DP-silica      530 non-null    float64       \n",
      " 12  LP-alumina     530 non-null    float64       \n",
      " 13  DP-alumina     416 non-null    float64       \n",
      " 14  LP-moisture    530 non-null    float64       \n",
      " 15  DP-moisture    488 non-null    float64       \n",
      " 16  LP-TONNAGE     521 non-null    float64       \n",
      " 17  DP-TONNAGE     306 non-null    float64       \n",
      " 18  dif            530 non-null    float64       \n",
      "dtypes: datetime64[ns](2), float64(11), int64(4), object(2)\n",
      "memory usage: 82.8+ KB\n"
     ]
    }
   ],
   "source": []
  },
  {
   "cell_type": "code",
   "execution_count": null,
   "id": "d899049f",
   "metadata": {},
   "outputs": [],
   "source": []
  }
 ],
 "metadata": {
  "kernelspec": {
   "display_name": "Python 3 (ipykernel)",
   "language": "python",
   "name": "python3"
  },
  "language_info": {
   "codemirror_mode": {
    "name": "ipython",
    "version": 3
   },
   "file_extension": ".py",
   "mimetype": "text/x-python",
   "name": "python",
   "nbconvert_exporter": "python",
   "pygments_lexer": "ipython3",
   "version": "3.9.7"
  }
 },
 "nbformat": 4,
 "nbformat_minor": 5
}
